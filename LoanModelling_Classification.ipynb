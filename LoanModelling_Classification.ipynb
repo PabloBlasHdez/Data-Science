{
 "cells": [
  {
   "cell_type": "code",
   "execution_count": 1,
   "id": "6e78f9c5",
   "metadata": {},
   "outputs": [],
   "source": [
    "import pandas as pd\n",
    "import matplotlib.pyplot as plt\n",
    "from sklearn import tree\n",
    "from sklearn.model_selection import train_test_split\n",
    "from sklearn.metrics import confusion_matrix, classification_report, roc_curve, roc_auc_score, accuracy_score"
   ]
  },
  {
   "cell_type": "markdown",
   "id": "d9aaa025",
   "metadata": {},
   "source": [
    "This code is based on the \"Data\" sheet from the Bank_Loan_modelling dataset in Kaggle"
   ]
  },
  {
   "cell_type": "code",
   "execution_count": 2,
   "id": "788dd9a7",
   "metadata": {},
   "outputs": [],
   "source": [
    "loan_data = pd.read_excel('Bank_Personal_Loan_Modelling.xlsx')"
   ]
  },
  {
   "cell_type": "markdown",
   "id": "0f1756a3",
   "metadata": {},
   "source": [
    "First, we have to understand the data we are working with (including understanding all the variables the dataset contains)."
   ]
  },
  {
   "cell_type": "code",
   "execution_count": 3,
   "id": "32eafcac",
   "metadata": {},
   "outputs": [
    {
     "data": {
      "text/plain": [
       "(5000, 14)"
      ]
     },
     "execution_count": 3,
     "metadata": {},
     "output_type": "execute_result"
    }
   ],
   "source": [
    "# Nº of rows and columns\n",
    "loan_data.shape"
   ]
  },
  {
   "cell_type": "code",
   "execution_count": 4,
   "id": "ffeb19cd",
   "metadata": {},
   "outputs": [
    {
     "data": {
      "text/html": [
       "<div>\n",
       "<style scoped>\n",
       "    .dataframe tbody tr th:only-of-type {\n",
       "        vertical-align: middle;\n",
       "    }\n",
       "\n",
       "    .dataframe tbody tr th {\n",
       "        vertical-align: top;\n",
       "    }\n",
       "\n",
       "    .dataframe thead th {\n",
       "        text-align: right;\n",
       "    }\n",
       "</style>\n",
       "<table border=\"1\" class=\"dataframe\">\n",
       "  <thead>\n",
       "    <tr style=\"text-align: right;\">\n",
       "      <th></th>\n",
       "      <th>ID</th>\n",
       "      <th>Age</th>\n",
       "      <th>Experience</th>\n",
       "      <th>Income</th>\n",
       "      <th>ZIP Code</th>\n",
       "      <th>Family</th>\n",
       "      <th>CCAvg</th>\n",
       "      <th>Education</th>\n",
       "      <th>Mortgage</th>\n",
       "      <th>Personal Loan</th>\n",
       "      <th>Securities Account</th>\n",
       "      <th>CD Account</th>\n",
       "      <th>Online</th>\n",
       "      <th>CreditCard</th>\n",
       "    </tr>\n",
       "  </thead>\n",
       "  <tbody>\n",
       "    <tr>\n",
       "      <th>0</th>\n",
       "      <td>1</td>\n",
       "      <td>25</td>\n",
       "      <td>1</td>\n",
       "      <td>49</td>\n",
       "      <td>91107</td>\n",
       "      <td>4</td>\n",
       "      <td>1.6</td>\n",
       "      <td>1</td>\n",
       "      <td>0</td>\n",
       "      <td>0</td>\n",
       "      <td>1</td>\n",
       "      <td>0</td>\n",
       "      <td>0</td>\n",
       "      <td>0</td>\n",
       "    </tr>\n",
       "    <tr>\n",
       "      <th>1</th>\n",
       "      <td>2</td>\n",
       "      <td>45</td>\n",
       "      <td>19</td>\n",
       "      <td>34</td>\n",
       "      <td>90089</td>\n",
       "      <td>3</td>\n",
       "      <td>1.5</td>\n",
       "      <td>1</td>\n",
       "      <td>0</td>\n",
       "      <td>0</td>\n",
       "      <td>1</td>\n",
       "      <td>0</td>\n",
       "      <td>0</td>\n",
       "      <td>0</td>\n",
       "    </tr>\n",
       "    <tr>\n",
       "      <th>2</th>\n",
       "      <td>3</td>\n",
       "      <td>39</td>\n",
       "      <td>15</td>\n",
       "      <td>11</td>\n",
       "      <td>94720</td>\n",
       "      <td>1</td>\n",
       "      <td>1.0</td>\n",
       "      <td>1</td>\n",
       "      <td>0</td>\n",
       "      <td>0</td>\n",
       "      <td>0</td>\n",
       "      <td>0</td>\n",
       "      <td>0</td>\n",
       "      <td>0</td>\n",
       "    </tr>\n",
       "    <tr>\n",
       "      <th>3</th>\n",
       "      <td>4</td>\n",
       "      <td>35</td>\n",
       "      <td>9</td>\n",
       "      <td>100</td>\n",
       "      <td>94112</td>\n",
       "      <td>1</td>\n",
       "      <td>2.7</td>\n",
       "      <td>2</td>\n",
       "      <td>0</td>\n",
       "      <td>0</td>\n",
       "      <td>0</td>\n",
       "      <td>0</td>\n",
       "      <td>0</td>\n",
       "      <td>0</td>\n",
       "    </tr>\n",
       "    <tr>\n",
       "      <th>4</th>\n",
       "      <td>5</td>\n",
       "      <td>35</td>\n",
       "      <td>8</td>\n",
       "      <td>45</td>\n",
       "      <td>91330</td>\n",
       "      <td>4</td>\n",
       "      <td>1.0</td>\n",
       "      <td>2</td>\n",
       "      <td>0</td>\n",
       "      <td>0</td>\n",
       "      <td>0</td>\n",
       "      <td>0</td>\n",
       "      <td>0</td>\n",
       "      <td>1</td>\n",
       "    </tr>\n",
       "  </tbody>\n",
       "</table>\n",
       "</div>"
      ],
      "text/plain": [
       "   ID  Age  Experience  Income  ZIP Code  Family  CCAvg  Education  Mortgage  \\\n",
       "0   1   25           1      49     91107       4    1.6          1         0   \n",
       "1   2   45          19      34     90089       3    1.5          1         0   \n",
       "2   3   39          15      11     94720       1    1.0          1         0   \n",
       "3   4   35           9     100     94112       1    2.7          2         0   \n",
       "4   5   35           8      45     91330       4    1.0          2         0   \n",
       "\n",
       "   Personal Loan  Securities Account  CD Account  Online  CreditCard  \n",
       "0              0                   1           0       0           0  \n",
       "1              0                   1           0       0           0  \n",
       "2              0                   0           0       0           0  \n",
       "3              0                   0           0       0           0  \n",
       "4              0                   0           0       0           1  "
      ]
     },
     "execution_count": 4,
     "metadata": {},
     "output_type": "execute_result"
    }
   ],
   "source": [
    "loan_data.head()"
   ]
  },
  {
   "cell_type": "code",
   "execution_count": 5,
   "id": "9e4af488",
   "metadata": {},
   "outputs": [
    {
     "name": "stdout",
     "output_type": "stream",
     "text": [
      "<class 'pandas.core.frame.DataFrame'>\n",
      "RangeIndex: 5000 entries, 0 to 4999\n",
      "Data columns (total 14 columns):\n",
      " #   Column              Non-Null Count  Dtype  \n",
      "---  ------              --------------  -----  \n",
      " 0   ID                  5000 non-null   int64  \n",
      " 1   Age                 5000 non-null   int64  \n",
      " 2   Experience          5000 non-null   int64  \n",
      " 3   Income              5000 non-null   int64  \n",
      " 4   ZIP Code            5000 non-null   int64  \n",
      " 5   Family              5000 non-null   int64  \n",
      " 6   CCAvg               5000 non-null   float64\n",
      " 7   Education           5000 non-null   int64  \n",
      " 8   Mortgage            5000 non-null   int64  \n",
      " 9   Personal Loan       5000 non-null   int64  \n",
      " 10  Securities Account  5000 non-null   int64  \n",
      " 11  CD Account          5000 non-null   int64  \n",
      " 12  Online              5000 non-null   int64  \n",
      " 13  CreditCard          5000 non-null   int64  \n",
      "dtypes: float64(1), int64(13)\n",
      "memory usage: 547.0 KB\n"
     ]
    }
   ],
   "source": [
    "# Concise summary of the 'df', containing also the type of the variables\n",
    "loan_data.info()"
   ]
  },
  {
   "cell_type": "code",
   "execution_count": 6,
   "id": "4827d6f2",
   "metadata": {},
   "outputs": [
    {
     "data": {
      "text/html": [
       "<div>\n",
       "<style scoped>\n",
       "    .dataframe tbody tr th:only-of-type {\n",
       "        vertical-align: middle;\n",
       "    }\n",
       "\n",
       "    .dataframe tbody tr th {\n",
       "        vertical-align: top;\n",
       "    }\n",
       "\n",
       "    .dataframe thead th {\n",
       "        text-align: right;\n",
       "    }\n",
       "</style>\n",
       "<table border=\"1\" class=\"dataframe\">\n",
       "  <thead>\n",
       "    <tr style=\"text-align: right;\">\n",
       "      <th></th>\n",
       "      <th>ID</th>\n",
       "      <th>Age</th>\n",
       "      <th>Experience</th>\n",
       "      <th>Income</th>\n",
       "      <th>ZIP Code</th>\n",
       "      <th>Family</th>\n",
       "      <th>CCAvg</th>\n",
       "      <th>Education</th>\n",
       "      <th>Mortgage</th>\n",
       "      <th>Personal Loan</th>\n",
       "      <th>Securities Account</th>\n",
       "      <th>CD Account</th>\n",
       "      <th>Online</th>\n",
       "      <th>CreditCard</th>\n",
       "    </tr>\n",
       "  </thead>\n",
       "  <tbody>\n",
       "    <tr>\n",
       "      <th>count</th>\n",
       "      <td>5000.000000</td>\n",
       "      <td>5000.000000</td>\n",
       "      <td>5000.000000</td>\n",
       "      <td>5000.000000</td>\n",
       "      <td>5000.000000</td>\n",
       "      <td>5000.000000</td>\n",
       "      <td>5000.000000</td>\n",
       "      <td>5000.000000</td>\n",
       "      <td>5000.000000</td>\n",
       "      <td>5000.000000</td>\n",
       "      <td>5000.000000</td>\n",
       "      <td>5000.00000</td>\n",
       "      <td>5000.000000</td>\n",
       "      <td>5000.000000</td>\n",
       "    </tr>\n",
       "    <tr>\n",
       "      <th>mean</th>\n",
       "      <td>2500.500000</td>\n",
       "      <td>45.338400</td>\n",
       "      <td>20.104600</td>\n",
       "      <td>73.774200</td>\n",
       "      <td>93152.503000</td>\n",
       "      <td>2.396400</td>\n",
       "      <td>1.937913</td>\n",
       "      <td>1.881000</td>\n",
       "      <td>56.498800</td>\n",
       "      <td>0.096000</td>\n",
       "      <td>0.104400</td>\n",
       "      <td>0.06040</td>\n",
       "      <td>0.596800</td>\n",
       "      <td>0.294000</td>\n",
       "    </tr>\n",
       "    <tr>\n",
       "      <th>std</th>\n",
       "      <td>1443.520003</td>\n",
       "      <td>11.463166</td>\n",
       "      <td>11.467954</td>\n",
       "      <td>46.033729</td>\n",
       "      <td>2121.852197</td>\n",
       "      <td>1.147663</td>\n",
       "      <td>1.747666</td>\n",
       "      <td>0.839869</td>\n",
       "      <td>101.713802</td>\n",
       "      <td>0.294621</td>\n",
       "      <td>0.305809</td>\n",
       "      <td>0.23825</td>\n",
       "      <td>0.490589</td>\n",
       "      <td>0.455637</td>\n",
       "    </tr>\n",
       "    <tr>\n",
       "      <th>min</th>\n",
       "      <td>1.000000</td>\n",
       "      <td>23.000000</td>\n",
       "      <td>-3.000000</td>\n",
       "      <td>8.000000</td>\n",
       "      <td>9307.000000</td>\n",
       "      <td>1.000000</td>\n",
       "      <td>0.000000</td>\n",
       "      <td>1.000000</td>\n",
       "      <td>0.000000</td>\n",
       "      <td>0.000000</td>\n",
       "      <td>0.000000</td>\n",
       "      <td>0.00000</td>\n",
       "      <td>0.000000</td>\n",
       "      <td>0.000000</td>\n",
       "    </tr>\n",
       "    <tr>\n",
       "      <th>25%</th>\n",
       "      <td>1250.750000</td>\n",
       "      <td>35.000000</td>\n",
       "      <td>10.000000</td>\n",
       "      <td>39.000000</td>\n",
       "      <td>91911.000000</td>\n",
       "      <td>1.000000</td>\n",
       "      <td>0.700000</td>\n",
       "      <td>1.000000</td>\n",
       "      <td>0.000000</td>\n",
       "      <td>0.000000</td>\n",
       "      <td>0.000000</td>\n",
       "      <td>0.00000</td>\n",
       "      <td>0.000000</td>\n",
       "      <td>0.000000</td>\n",
       "    </tr>\n",
       "    <tr>\n",
       "      <th>50%</th>\n",
       "      <td>2500.500000</td>\n",
       "      <td>45.000000</td>\n",
       "      <td>20.000000</td>\n",
       "      <td>64.000000</td>\n",
       "      <td>93437.000000</td>\n",
       "      <td>2.000000</td>\n",
       "      <td>1.500000</td>\n",
       "      <td>2.000000</td>\n",
       "      <td>0.000000</td>\n",
       "      <td>0.000000</td>\n",
       "      <td>0.000000</td>\n",
       "      <td>0.00000</td>\n",
       "      <td>1.000000</td>\n",
       "      <td>0.000000</td>\n",
       "    </tr>\n",
       "    <tr>\n",
       "      <th>75%</th>\n",
       "      <td>3750.250000</td>\n",
       "      <td>55.000000</td>\n",
       "      <td>30.000000</td>\n",
       "      <td>98.000000</td>\n",
       "      <td>94608.000000</td>\n",
       "      <td>3.000000</td>\n",
       "      <td>2.500000</td>\n",
       "      <td>3.000000</td>\n",
       "      <td>101.000000</td>\n",
       "      <td>0.000000</td>\n",
       "      <td>0.000000</td>\n",
       "      <td>0.00000</td>\n",
       "      <td>1.000000</td>\n",
       "      <td>1.000000</td>\n",
       "    </tr>\n",
       "    <tr>\n",
       "      <th>max</th>\n",
       "      <td>5000.000000</td>\n",
       "      <td>67.000000</td>\n",
       "      <td>43.000000</td>\n",
       "      <td>224.000000</td>\n",
       "      <td>96651.000000</td>\n",
       "      <td>4.000000</td>\n",
       "      <td>10.000000</td>\n",
       "      <td>3.000000</td>\n",
       "      <td>635.000000</td>\n",
       "      <td>1.000000</td>\n",
       "      <td>1.000000</td>\n",
       "      <td>1.00000</td>\n",
       "      <td>1.000000</td>\n",
       "      <td>1.000000</td>\n",
       "    </tr>\n",
       "  </tbody>\n",
       "</table>\n",
       "</div>"
      ],
      "text/plain": [
       "                ID          Age   Experience       Income      ZIP Code  \\\n",
       "count  5000.000000  5000.000000  5000.000000  5000.000000   5000.000000   \n",
       "mean   2500.500000    45.338400    20.104600    73.774200  93152.503000   \n",
       "std    1443.520003    11.463166    11.467954    46.033729   2121.852197   \n",
       "min       1.000000    23.000000    -3.000000     8.000000   9307.000000   \n",
       "25%    1250.750000    35.000000    10.000000    39.000000  91911.000000   \n",
       "50%    2500.500000    45.000000    20.000000    64.000000  93437.000000   \n",
       "75%    3750.250000    55.000000    30.000000    98.000000  94608.000000   \n",
       "max    5000.000000    67.000000    43.000000   224.000000  96651.000000   \n",
       "\n",
       "            Family        CCAvg    Education     Mortgage  Personal Loan  \\\n",
       "count  5000.000000  5000.000000  5000.000000  5000.000000    5000.000000   \n",
       "mean      2.396400     1.937913     1.881000    56.498800       0.096000   \n",
       "std       1.147663     1.747666     0.839869   101.713802       0.294621   \n",
       "min       1.000000     0.000000     1.000000     0.000000       0.000000   \n",
       "25%       1.000000     0.700000     1.000000     0.000000       0.000000   \n",
       "50%       2.000000     1.500000     2.000000     0.000000       0.000000   \n",
       "75%       3.000000     2.500000     3.000000   101.000000       0.000000   \n",
       "max       4.000000    10.000000     3.000000   635.000000       1.000000   \n",
       "\n",
       "       Securities Account  CD Account       Online   CreditCard  \n",
       "count         5000.000000  5000.00000  5000.000000  5000.000000  \n",
       "mean             0.104400     0.06040     0.596800     0.294000  \n",
       "std              0.305809     0.23825     0.490589     0.455637  \n",
       "min              0.000000     0.00000     0.000000     0.000000  \n",
       "25%              0.000000     0.00000     0.000000     0.000000  \n",
       "50%              0.000000     0.00000     1.000000     0.000000  \n",
       "75%              0.000000     0.00000     1.000000     1.000000  \n",
       "max              1.000000     1.00000     1.000000     1.000000  "
      ]
     },
     "execution_count": 6,
     "metadata": {},
     "output_type": "execute_result"
    }
   ],
   "source": [
    "# Basic statistics for variables (not all of them are relevant, for example ID, but for understanding the 'df' is fine)\n",
    "loan_data.describe()"
   ]
  },
  {
   "cell_type": "code",
   "execution_count": 7,
   "id": "8074e5f8",
   "metadata": {},
   "outputs": [
    {
     "data": {
      "text/plain": [
       "ID                    0\n",
       "Age                   0\n",
       "Experience            0\n",
       "Income                0\n",
       "ZIP Code              0\n",
       "Family                0\n",
       "CCAvg                 0\n",
       "Education             0\n",
       "Mortgage              0\n",
       "Personal Loan         0\n",
       "Securities Account    0\n",
       "CD Account            0\n",
       "Online                0\n",
       "CreditCard            0\n",
       "dtype: int64"
      ]
     },
     "execution_count": 7,
     "metadata": {},
     "output_type": "execute_result"
    }
   ],
   "source": [
    "# Nº of NaN (missing values) in each column\n",
    "loan_data.isnull().sum()"
   ]
  },
  {
   "cell_type": "markdown",
   "id": "3999cb66",
   "metadata": {},
   "source": [
    "No missing values in any of the variables"
   ]
  },
  {
   "cell_type": "code",
   "execution_count": 8,
   "id": "639b4379",
   "metadata": {},
   "outputs": [],
   "source": [
    "# Eliminate the columns 'ID' y 'ZIP Code' as they are not relevant for the analysis\n",
    "loan_data = loan_data.drop(columns=['ID', 'ZIP Code'])"
   ]
  },
  {
   "cell_type": "code",
   "execution_count": 9,
   "id": "ce6e96d2",
   "metadata": {},
   "outputs": [],
   "source": [
    "x = loan_data.drop('Personal Loan', axis=1)\n",
    "y = loan_data['Personal Loan']"
   ]
  },
  {
   "cell_type": "markdown",
   "id": "cdcb2b03",
   "metadata": {},
   "source": [
    "This code prepares the data for a classification problem where the goal is to predict whether a customer will take out a personal loan (Personal Loan). In this case:\n",
    "\n",
    "x: Predictor variables (e.g., income, age, education, etc.).\n",
    "y: Target variable, such as 0 (did not take the loan) or 1 (took the loan)."
   ]
  },
  {
   "cell_type": "code",
   "execution_count": 10,
   "id": "5dd2e64b",
   "metadata": {},
   "outputs": [],
   "source": [
    "x_train, x_test, y_train, y_test = train_test_split(x, y, test_size=0.2, random_state=42)"
   ]
  },
  {
   "cell_type": "markdown",
   "id": "7b208aec",
   "metadata": {},
   "source": [
    "We are solving this classification problem with a Decision Tree and a Random Forest model. The hyperparameters from both models are selected according to the book \"Approaching (Almost) Any Machine Learning Problem\" (table in page 184)."
   ]
  },
  {
   "cell_type": "markdown",
   "id": "8ac96531",
   "metadata": {},
   "source": [
    "## Decision tree"
   ]
  },
  {
   "cell_type": "code",
   "execution_count": 11,
   "id": "956ff805",
   "metadata": {},
   "outputs": [
    {
     "name": "stdout",
     "output_type": "stream",
     "text": [
      "Accuracy: 0.987\n"
     ]
    }
   ],
   "source": [
    "from sklearn.tree import DecisionTreeClassifier\n",
    "\n",
    "# Define the Decision Tree classifier with manually selected hyperparameters\n",
    "dt_classifier = DecisionTreeClassifier(max_depth=15, min_samples_split=5, min_samples_leaf=1, random_state=42)\n",
    "\n",
    "# Train the model\n",
    "dt_classifier.fit(x_train, y_train)\n",
    "\n",
    "# Make predictions\n",
    "y_pred = dt_classifier.predict(x_test)\n",
    "\n",
    "# Calculate accuracy\n",
    "accuracy_dt = accuracy_score(y_test, y_pred)\n",
    "print(\"Accuracy:\", accuracy_dt)\n"
   ]
  },
  {
   "cell_type": "markdown",
   "id": "40ea097d",
   "metadata": {},
   "source": [
    "max_depth: This hyperparameter controls the maximum depth of the decision tree. A deeper tree can lead to a more complex model that fits the training data better, but it can also increase the risk of overfitting. A value of 15 was chosen to limit the depth of the tree and avoid overfitting, as this value is expected to allow the tree to capture complex patterns in the data without becoming too complex.\n",
    "\n",
    "min_samples_split: This hyperparameter sets the minimum number of samples required to split an internal node. A higher value for min_samples_split can help avoid splits that create branches with few data points, reducing the risk of overfitting. A value of 5 was chosen to ensure that there are enough samples in each split to make meaningful predictions, but not so high as to overly restrict the growth of the tree.\n",
    "\n",
    "min_samples_leaf: This hyperparameter sets the minimum number of samples required to form a leaf in the tree. A higher value for min_samples_leaf can help prevent overfitting by limiting the minimum number of samples in a leaf, avoiding overly specific splits. A value of 1 was chosen to allow the tree to capture even the most specific relationships between the features and labels.\n",
    "\n",
    "random_state: Ensures the reproducibility of results by setting the seed for random number generation. This allows the same random data and splits to be used in each run, ensuring consistent results."
   ]
  },
  {
   "cell_type": "markdown",
   "id": "0abefc9d",
   "metadata": {},
   "source": [
    "## Random forest"
   ]
  },
  {
   "cell_type": "code",
   "execution_count": 12,
   "id": "03c9448b",
   "metadata": {},
   "outputs": [
    {
     "name": "stdout",
     "output_type": "stream",
     "text": [
      "Accuracy: 0.99\n"
     ]
    }
   ],
   "source": [
    "from sklearn.ensemble import RandomForestClassifier\n",
    "\n",
    "# Define the Random Forest classifier with the selected hyperparameters\n",
    "rf_classifier = RandomForestClassifier(\n",
    "    n_estimators=120, \n",
    "    max_depth=25, \n",
    "    min_samples_split=5, \n",
    "    min_samples_leaf=1, \n",
    "    max_features='sqrt', \n",
    "    random_state=42\n",
    ")\n",
    "\n",
    "# Train the model\n",
    "rf_classifier.fit(x_train, y_train)\n",
    "\n",
    "# Make predictions\n",
    "y_pred = rf_classifier.predict(x_test)\n",
    "\n",
    "# Calculate accuracy\n",
    "accuracy_rf = accuracy_score(y_test, y_pred)\n",
    "print(\"Accuracy:\", accuracy_rf)"
   ]
  },
  {
   "cell_type": "markdown",
   "id": "23273271",
   "metadata": {},
   "source": [
    "n_estimators: This hyperparameter indicates the number of trees to be built. A higher number of trees generally improves the model's accuracy, but it also increases the computational cost. Higher values are chosen to capture a wider range of relationships in the data and reduce the variability inherent in building individual trees. In this case, a higher value such as 100 or 200 could be chosen, but to keep the training time reasonable, an intermediate value like 120 could be selected.\n",
    "\n",
    "max_depth: This hyperparameter controls the maximum depth of each tree. Limiting the depth of the trees can help prevent overfitting and improve the model’s generalization ability. A moderately high value, such as 25, is chosen to allow the trees to capture complex relationships in the data without becoming overly complex.\n",
    "\n",
    "min_samples_split: This hyperparameter sets the minimum number of samples required to split an internal node. A higher value can help prevent splits that generate branches with few data points, thus reducing overfitting. An intermediate value like 5 is chosen to ensure that there are enough samples in each split to make meaningful predictions.\n",
    "\n",
    "min_samples_leaf: This hyperparameter sets the minimum number of samples required to form a leaf in the tree. Like min_samples_split, a higher value can help prevent overfitting by limiting the minimum number of samples in a leaf. A low value like 1 is chosen to allow the tree to capture even specific relationships between features and labels.\n",
    "\n",
    "max_features: This hyperparameter controls the number of features to consider when searching for the best split at each node. It can be specified as a numeric value, percentage, or string ('sqrt', 'log2', None). 'sqrt' selects the number of features equal to the square root of the total number of features. 'sqrt' is chosen to keep the model more generalized."
   ]
  },
  {
   "cell_type": "markdown",
   "id": "31feb4f2",
   "metadata": {},
   "source": [
    "## Display the results"
   ]
  },
  {
   "cell_type": "code",
   "execution_count": 13,
   "id": "2b6ce2ee",
   "metadata": {},
   "outputs": [
    {
     "data": {
      "image/png": "[encoded data removed]",
      "text/plain": [
       "<Figure size 800x600 with 1 Axes>"
      ]
     },
     "metadata": {},
     "output_type": "display_data"
    },
    {
     "name": "stdout",
     "output_type": "stream",
     "text": [
      "Classification Report for Decision Tree:\n",
      "              precision    recall  f1-score   support\n",
      "\n",
      "           0       0.99      1.00      0.99       895\n",
      "           1       0.99      0.91      0.95       105\n",
      "\n",
      "    accuracy                           0.99      1000\n",
      "   macro avg       0.99      0.96      0.97      1000\n",
      "weighted avg       0.99      0.99      0.99      1000\n",
      "\n",
      "Classification Report for Random Forest:\n",
      "              precision    recall  f1-score   support\n",
      "\n",
      "           0       0.99      1.00      0.99       895\n",
      "           1       0.99      0.91      0.95       105\n",
      "\n",
      "    accuracy                           0.99      1000\n",
      "   macro avg       0.99      0.96      0.97      1000\n",
      "weighted avg       0.99      0.99      0.99      1000\n",
      "\n"
     ]
    }
   ],
   "source": [
    "import matplotlib.pyplot as plt\n",
    "from sklearn.metrics import (\n",
    "    roc_curve, roc_auc_score, classification_report, PrecisionRecallDisplay\n",
    ")\n",
    "\n",
    "# Calculate model probabilities for ROC curve\n",
    "y_proba_dt = dt_classifier.predict_proba(x_test)[:, 1]\n",
    "y_proba_rf = rf_classifier.predict_proba(x_test)[:, 1]\n",
    "\n",
    "# Calculate ROC curve values\n",
    "fpr_dt, tpr_dt, _ = roc_curve(y_test, y_proba_dt)\n",
    "fpr_rf, tpr_rf, _ = roc_curve(y_test, y_proba_rf)\n",
    "\n",
    "# Calculate AUC (Area Under the Curve)\n",
    "auc_dt = roc_auc_score(y_test, y_proba_dt)\n",
    "auc_rf = roc_auc_score(y_test, y_proba_rf)\n",
    "\n",
    "# Plot ROC curve\n",
    "plt.figure(figsize=(8, 6))\n",
    "plt.plot(fpr_dt, tpr_dt, label=f\"Decision Tree (AUC = {auc_dt:.2f})\", linestyle=\"-\")  # Continuous line\n",
    "plt.plot(fpr_rf, tpr_rf, label=f\"Random Forest (AUC = {auc_rf:.2f})\", linestyle=\"-\")  # Continuous line\n",
    "plt.plot([0, 1], [0, 1], \"k--\", label=\"Random Guessing\")\n",
    "plt.xlabel(\"False Positive Rate (FPR)\")\n",
    "plt.ylabel(\"True Positive Rate (TPR)\")\n",
    "plt.title(\"ROC Curve\")\n",
    "plt.legend(loc=\"lower right\")\n",
    "plt.grid()\n",
    "plt.show()\n",
    "\n",
    "# Classification report (Precision, Recall, F1-score)\n",
    "print(\"Classification Report for Decision Tree:\")\n",
    "print(classification_report(y_test, y_pred))\n",
    "\n",
    "print(\"Classification Report for Random Forest:\")\n",
    "print(classification_report(y_test, rf_classifier.predict(x_test)))"
   ]
  },
  {
   "cell_type": "markdown",
   "id": "db14fdf2",
   "metadata": {},
   "source": [
    "The Decision Tree and Random Forest classifiers demonstrate good predictive performance based on metrics like AUC and classification reports.\n",
    "The Random Forest model likely outperforms the Decision Tree due to its ensemble nature, which reduces overfitting and improves generalization > Random Forest is essentially an enhanced version of a Decision Tree, designed to address its limitations. While a Decision Tree consists of a single structure built using the entire dataset, Random Forest combines multiple trees, each trained on a random subset of the data and features. This ensemble approach reduces overfitting, a common issue with Decision Trees, and improves generalization by averaging the predictions of all trees (via majority voting for classification or averaging for regression). Additionally, Random Forest introduces randomness in feature selection at each node, encouraging diversity among the trees. Although it is less interpretable than a single Decision Tree, it is generally more accurate and robust, making it a powerful tool for predictive tasks."
   ]
  },
  {
   "cell_type": "markdown",
   "id": "ea44d642",
   "metadata": {},
   "source": [
    "## Example if a loan is approved or rejected"
   ]
  },
  {
   "cell_type": "code",
   "execution_count": 14,
   "id": "32780f89",
   "metadata": {},
   "outputs": [
    {
     "name": "stdout",
     "output_type": "stream",
     "text": [
      "Enter the client's details to evaluate if the loan will be granted:\n",
      "Age (in years): 18\n",
      "Years of professional experience: 0\n",
      "Annual income (in USD): 0\n",
      "Number of family members: 1\n",
      "Average monthly credit card spending (in USD): 50\n",
      "Education level (1: Undergraduate, 2: Graduate, 3: Advanced/Professional): 1\n",
      "Mortgage amount (in USD): 1000000\n",
      "Does the client have a securities account? (0: No, 1: Yes): 0\n",
      "Does the client have a certificate of deposit (CD) account? (0: No, 1: Yes): 0\n",
      "Does the client use online banking? (0: No, 1: Yes): 1\n",
      "Does the client have a credit card issued by the bank? (0: No, 1: Yes): 1\n",
      "\n",
      "Client data entered:\n",
      "[[1.8e+01 0.0e+00 0.0e+00 1.0e+00 5.0e+01 1.0e+00 1.0e+06 0.0e+00 0.0e+00\n",
      "  1.0e+00 1.0e+00]]\n",
      "\n",
      "Decision Tree Prediction: Loan Approved\n",
      "Random Forest Prediction: Loan Not Approved\n"
     ]
    },
    {
     "name": "stderr",
     "output_type": "stream",
     "text": [
      "C:\\Users\\pabli\\anaconda3\\lib\\site-packages\\sklearn\\base.py:450: UserWarning: X does not have valid feature names, but DecisionTreeClassifier was fitted with feature names\n",
      "  warnings.warn(\n",
      "C:\\Users\\pabli\\anaconda3\\lib\\site-packages\\sklearn\\base.py:450: UserWarning: X does not have valid feature names, but RandomForestClassifier was fitted with feature names\n",
      "  warnings.warn(\n"
     ]
    }
   ],
   "source": [
    "import numpy as np\n",
    "\n",
    "# Request input variables\n",
    "print(\"Enter the client's details to evaluate if the loan will be granted:\")\n",
    "\n",
    "age = int(input(\"Age (in years): \"))\n",
    "experience = int(input(\"Years of professional experience: \"))\n",
    "income = float(input(\"Annual income (in USD): \"))\n",
    "family = int(input(\"Number of family members: \"))\n",
    "cc_avg = float(input(\"Average monthly credit card spending (in USD): \"))\n",
    "education = int(input(\"Education level (1: Undergraduate, 2: Graduate, 3: Advanced/Professional): \"))\n",
    "mortgage = float(input(\"Mortgage amount (in USD): \"))\n",
    "securities_account = int(input(\"Does the client have a securities account? (0: No, 1: Yes): \"))\n",
    "cd_account = int(input(\"Does the client have a certificate of deposit (CD) account? (0: No, 1: Yes): \"))\n",
    "online = int(input(\"Does the client use online banking? (0: No, 1: Yes): \"))\n",
    "credit_card = int(input(\"Does the client have a credit card issued by the bank? (0: No, 1: Yes): \"))\n",
    "\n",
    "# Create an array with the input data\n",
    "new_client = np.array([[age, experience, income, family, cc_avg, education, mortgage, securities_account, cd_account, online, credit_card]])\n",
    "\n",
    "# Verify dimensions\n",
    "\n",
    "print(\"\\nClient data entered:\")\n",
    "print(new_client)\n",
    "\n",
    "# Prediction using Decision Tree\n",
    "dt_prediction = dt_classifier.predict(new_client)\n",
    "print(\"\\nDecision Tree Prediction:\", \"Loan Approved\" if dt_prediction[0] == 1 else \"Loan Not Approved\")\n",
    "\n",
    "# Prediction using Random Forest\n",
    "rf_prediction = rf_classifier.predict(new_client)\n",
    "print(\"Random Forest Prediction:\", \"Loan Approved\" if rf_prediction[0] == 1 else \"Loan Not Approved\")\n"
   ]
  }
 ],
 "metadata": {
  "kernelspec": {
   "display_name": "Python 3 (ipykernel)",
   "language": "python",
   "name": "python3"
  },
  "language_info": {
   "codemirror_mode": {
    "name": "ipython",
    "version": 3
   },
   "file_extension": ".py",
   "mimetype": "text/x-python",
   "name": "python",
   "nbconvert_exporter": "python",
   "pygments_lexer": "ipython3",
   "version": "3.9.13"
  }
 },
 "nbformat": 4,
 "nbformat_minor": 5
}
