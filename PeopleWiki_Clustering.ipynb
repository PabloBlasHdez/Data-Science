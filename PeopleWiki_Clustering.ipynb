{
 "cells": [
  {
   "cell_type": "markdown",
   "metadata": {},
   "source": [
    "When exploring a large set of documents -- such as Wikipedia, news articles, StackOverflow, etc. -- it can be useful to get a list of related material. To find relevant documents you typically\n",
    "* Decide on a notion of similarity\n",
    "* Find the documents that are most similar \n",
    "\n",
    "In the assignment you will\n",
    "* Gain intuition for different notions of similarity and practice finding similar documents. \n",
    "* Explore the tradeoffs with representing documents using raw word counts and TF-IDF\n",
    "* Explore the behavior of different distance metrics by looking at the Wikipedia pages most similar to President Obama’s page."
   ]
  },
  {
   "cell_type": "code",
   "execution_count": 1,
   "metadata": {
    "jupyter": {
     "outputs_hidden": false
    }
   },
   "outputs": [],
   "source": [
    "import matplotlib.pyplot as plt\n",
    "import numpy as np\n",
    "import pandas as pd\n",
    "%matplotlib inline"
   ]
  },
  {
   "cell_type": "markdown",
   "metadata": {},
   "source": [
    "## Load Wikipedia dataset"
   ]
  },
  {
   "cell_type": "markdown",
   "metadata": {},
   "source": [
    "We will be using the dataset of abridged Wikipedia pages. Each element of the dataset consists of a link to the wikipedia article, the name of the person, and the text of the article (in lowercase).  "
   ]
  },
  {
   "cell_type": "code",
   "execution_count": 2,
   "metadata": {
    "jupyter": {
     "outputs_hidden": false
    }
   },
   "outputs": [
    {
     "data": {
      "text/html": [
       "<div>\n",
       "<style scoped>\n",
       "    .dataframe tbody tr th:only-of-type {\n",
       "        vertical-align: middle;\n",
       "    }\n",
       "\n",
       "    .dataframe tbody tr th {\n",
       "        vertical-align: top;\n",
       "    }\n",
       "\n",
       "    .dataframe thead th {\n",
       "        text-align: right;\n",
       "    }\n",
       "</style>\n",
       "<table border=\"1\" class=\"dataframe\">\n",
       "  <thead>\n",
       "    <tr style=\"text-align: right;\">\n",
       "      <th></th>\n",
       "      <th>URI</th>\n",
       "      <th>name</th>\n",
       "      <th>text</th>\n",
       "    </tr>\n",
       "  </thead>\n",
       "  <tbody>\n",
       "    <tr>\n",
       "      <th>0</th>\n",
       "      <td>&lt;http://dbpedia.org/resource/Digby_Morrell&gt;</td>\n",
       "      <td>Digby Morrell</td>\n",
       "      <td>digby morrell born 10 october 1979 is a former...</td>\n",
       "    </tr>\n",
       "    <tr>\n",
       "      <th>1</th>\n",
       "      <td>&lt;http://dbpedia.org/resource/Alfred_J._Lewy&gt;</td>\n",
       "      <td>Alfred J. Lewy</td>\n",
       "      <td>alfred j lewy aka sandy lewy graduated from un...</td>\n",
       "    </tr>\n",
       "    <tr>\n",
       "      <th>2</th>\n",
       "      <td>&lt;http://dbpedia.org/resource/Harpdog_Brown&gt;</td>\n",
       "      <td>Harpdog Brown</td>\n",
       "      <td>harpdog brown is a singer and harmonica player...</td>\n",
       "    </tr>\n",
       "    <tr>\n",
       "      <th>3</th>\n",
       "      <td>&lt;http://dbpedia.org/resource/Franz_Rottensteiner&gt;</td>\n",
       "      <td>Franz Rottensteiner</td>\n",
       "      <td>franz rottensteiner born in waidmannsfeld lowe...</td>\n",
       "    </tr>\n",
       "    <tr>\n",
       "      <th>4</th>\n",
       "      <td>&lt;http://dbpedia.org/resource/G-Enka&gt;</td>\n",
       "      <td>G-Enka</td>\n",
       "      <td>henry krvits born 30 december 1974 in tallinn ...</td>\n",
       "    </tr>\n",
       "  </tbody>\n",
       "</table>\n",
       "</div>"
      ],
      "text/plain": [
       "                                                 URI                 name  \\\n",
       "0        <http://dbpedia.org/resource/Digby_Morrell>        Digby Morrell   \n",
       "1       <http://dbpedia.org/resource/Alfred_J._Lewy>       Alfred J. Lewy   \n",
       "2        <http://dbpedia.org/resource/Harpdog_Brown>        Harpdog Brown   \n",
       "3  <http://dbpedia.org/resource/Franz_Rottensteiner>  Franz Rottensteiner   \n",
       "4               <http://dbpedia.org/resource/G-Enka>               G-Enka   \n",
       "\n",
       "                                                text  \n",
       "0  digby morrell born 10 october 1979 is a former...  \n",
       "1  alfred j lewy aka sandy lewy graduated from un...  \n",
       "2  harpdog brown is a singer and harmonica player...  \n",
       "3  franz rottensteiner born in waidmannsfeld lowe...  \n",
       "4  henry krvits born 30 december 1974 in tallinn ...  "
      ]
     },
     "execution_count": 2,
     "metadata": {},
     "output_type": "execute_result"
    }
   ],
   "source": [
    "wiki = pd.read_csv('people_wiki.csv')\n",
    "wiki.head()"
   ]
  },
  {
   "cell_type": "markdown",
   "metadata": {},
   "source": [
    "If you want to check whether the text on the webpage agrees with the one here, you can display it with the following code:"
   ]
  },
  {
   "cell_type": "code",
   "execution_count": 3,
   "metadata": {},
   "outputs": [],
   "source": [
    "# from IPython.display import HTML\n",
    "# print(wiki['text'][0])\n",
    "# HTML(url=wiki['URI'][0]"
   ]
  },
  {
   "cell_type": "markdown",
   "metadata": {},
   "source": [
    "## Ex. 1: Extract word count vectors"
   ]
  },
  {
   "cell_type": "markdown",
   "metadata": {},
   "source": [
    "As we have seen in Assignment 4, we can extract word count vectors using `CountVectorizer` function.\n",
    "- make sure you include words of unit length by using the parameter: `token_pattern=r\"(?u)\\b\\w+\\b\"`\n",
    "- do not use any stopwords\n",
    "- take 10000 most frequent words in the corpus\n",
    "- explicitly take all the words independent of in how many documents they occur\n",
    "- obtain the matrix of word counts"
   ]
  },
  {
   "cell_type": "code",
   "execution_count": 4,
   "metadata": {},
   "outputs": [
    {
     "name": "stdout",
     "output_type": "stream",
     "text": [
      "Word Count Matrix Shape: (59071, 10000)\n"
     ]
    }
   ],
   "source": [
    "from sklearn.feature_extraction.text import CountVectorizer\n",
    "\n",
    "# Initialize CountVectorizer with the specified parameters\n",
    "vectorizer = CountVectorizer(\n",
    "    token_pattern=r\"(?u)\\b\\w+\\b\",  # Include words of unit length\n",
    "    max_features=10000,           # Take 10,000 most frequent words\n",
    "    stop_words=None,              # Do not use any stopwords\n",
    "    min_df=1                      # Include all words regardless of document frequency\n",
    ")\n",
    "\n",
    "# Obtain the matrix of word counts\n",
    "WCmatrix = vectorizer.fit_transform(wiki['text'])\n",
    "\n",
    "# Inspect the shape of the resulting word count matrix\n",
    "print(f\"Word Count Matrix Shape: {WCmatrix.shape}\")"
   ]
  },
  {
   "cell_type": "markdown",
   "metadata": {},
   "source": [
    "## Ex. 2: Find nearest neighbors"
   ]
  },
  {
   "cell_type": "markdown",
   "metadata": {},
   "source": [
    "**a)** Start by finding the nearest neighbors of the Barack Obama page using the above word count matrix to represent the articles and **Euclidean** distance to measure distance.\n",
    "Save the distances in `wiki['BO-eucl']` and look at the top 10 nearest neighbors."
   ]
  },
  {
   "cell_type": "code",
   "execution_count": 5,
   "metadata": {},
   "outputs": [
    {
     "name": "stdout",
     "output_type": "stream",
     "text": [
      "                             name    BO-eucl\n",
      "24478                   Joe Biden  31.336879\n",
      "28447              George W. Bush  33.645208\n",
      "48202                Tony Vaccaro  33.734256\n",
      "14754                 Mitt Romney  34.351128\n",
      "31423              Walter Mondale  34.423829\n",
      "36364                  Don Bonker  34.597688\n",
      "13229            Francisco Barrio  34.669872\n",
      "35357            Lawrence Summers  35.383612\n",
      "25258           Marc Ravalomanana  35.440090\n",
      "22745  Wynn Normington Hugh-Jones  35.454196\n"
     ]
    }
   ],
   "source": [
    "# One can use the following:\n",
    "    # from sklearn.neighbors import NearestNeighbors\n",
    "    # nbrs = NearestNeighbors(n_neighbors=3, algorithm='brute',metric='euclidean').fit(X.toarray())\n",
    "    # distances, indices = nbrs.kneighbors(X.toarray())\n",
    "# but here let's use:\n",
    "from sklearn.metrics import pairwise_distances\n",
    "\n",
    "# Locate the index of \"Barack Obama\"\n",
    "obama_index = wiki[wiki['name'] == 'Barack Obama'].index[0]\n",
    "\n",
    "# Extract the vector for \"Barack Obama\"\n",
    "obama_vector = WCmatrix[obama_index] # above matrix\n",
    "\n",
    "# Compute distances only between \"Barack Obama\" and all other articles, with Eucledian distance as the metric\n",
    "dist = pairwise_distances(obama_vector, WCmatrix, metric='euclidean').flatten()\n",
    "\n",
    "# Add the distances to the dataset\n",
    "wiki['BO-eucl'] = dist\n",
    "\n",
    "# Find the top 10 nearest neighbors (excluding \"Barack Obama\" itself)\n",
    "top_neighbors = wiki.nsmallest(11, 'BO-eucl')[1:]  # Exclude the first as it is \"Barack Obama\"\n",
    "\n",
    "# Display the top 10 nearest neighbors\n",
    "print(top_neighbors[['name', 'BO-eucl']])\n"
   ]
  },
  {
   "cell_type": "markdown",
   "metadata": {},
   "source": [
    "**b)** Measure the pairwise distance between the Wikipedia pages of Barack Obama, George W. Bush, and Joe Biden. Which of the three pairs has the smallest distance?"
   ]
  },
  {
   "cell_type": "code",
   "execution_count": 6,
   "metadata": {},
   "outputs": [
    {
     "name": "stdout",
     "output_type": "stream",
     "text": [
      "Distance between Barack Obama and George W. Bush: 33.645207682521445\n",
      "Distance between Barack Obama and Joe Biden: 31.336879231984796\n",
      "Distance between George W. Bush and Joe Biden: 30.919249667480614\n",
      "The closest pair is: George W. Bush and Joe Biden with a distance of 30.919249667480614\n"
     ]
    }
   ],
   "source": [
    "# Extract indices for the three individuals\n",
    "obama_index = wiki[wiki['name'] == 'Barack Obama'].index[0]\n",
    "bush_index = wiki[wiki['name'] == 'George W. Bush'].index[0]\n",
    "biden_index = wiki[wiki['name'] == 'Joe Biden'].index[0]\n",
    "\n",
    "# Extract the word count vectors for each individual\n",
    "obama_vector = WCmatrix[obama_index]\n",
    "bush_vector = WCmatrix[bush_index]\n",
    "biden_vector = WCmatrix[biden_index]\n",
    "\n",
    "# Compute pairwise distances between the vectors\n",
    "dist_obama_bush = pairwise_distances(obama_vector, bush_vector, metric='euclidean')[0][0]\n",
    "dist_obama_biden = pairwise_distances(obama_vector, biden_vector, metric='euclidean')[0][0]\n",
    "dist_bush_biden = pairwise_distances(bush_vector, biden_vector, metric='euclidean')[0][0]\n",
    "\n",
    "# Display the distances\n",
    "print(f\"Distance between Barack Obama and George W. Bush: {dist_obama_bush}\")\n",
    "print(f\"Distance between Barack Obama and Joe Biden: {dist_obama_biden}\")\n",
    "print(f\"Distance between George W. Bush and Joe Biden: {dist_bush_biden}\")\n",
    "\n",
    "# Identify the pair with the smallest distance\n",
    "min_distance = min(dist_obama_bush, dist_obama_biden, dist_bush_biden)\n",
    "if min_distance == dist_obama_bush:\n",
    "    closest_pair = \"Barack Obama and George W. Bush\"\n",
    "elif min_distance == dist_obama_biden:\n",
    "    closest_pair = \"Barack Obama and Joe Biden\"\n",
    "else:\n",
    "    closest_pair = \"George W. Bush and Joe Biden\"\n",
    "\n",
    "print(f\"The closest pair is: {closest_pair} with a distance of {min_distance}\")\n"
   ]
  },
  {
   "cell_type": "markdown",
   "metadata": {},
   "source": [
    "All of the 10 people from **a)** are politicians, but about half of them have rather tenuous connections with Obama, other than the fact that they are politicians, e.g.,\n",
    "\n",
    "* Francisco Barrio is a Mexican politician, and a former governor of Chihuahua.\n",
    "* Walter Mondale and Don Bonker are Democrats who made their career in late 1970s.\n",
    "\n",
    "Nearest neighbors with raw word counts got some things right, showing all politicians in the query result, but missed finer and important details."
   ]
  },
  {
   "cell_type": "markdown",
   "metadata": {},
   "source": [
    "**c)** Let's find out why Francisco Barrio was considered a close neighbor of Obama.\n",
    "To do this, look at the most frequently used words in each of Barack Obama and Francisco Barrio's pages."
   ]
  },
  {
   "cell_type": "code",
   "execution_count": 7,
   "metadata": {},
   "outputs": [
    {
     "name": "stdout",
     "output_type": "stream",
     "text": [
      "Top words for Barack Obama:\n",
      "       word  count\n",
      "9063    the     40\n",
      "4616     in     30\n",
      "722     and     21\n",
      "6378     of     18\n",
      "9162     to     14\n",
      "4387    his     11\n",
      "6342  obama      9\n",
      "453     act      8\n",
      "4284     he      7\n",
      "372       a      7\n",
      "\n",
      "Top words for Francisco Barrio:\n",
      "          word  count\n",
      "9063       the     36\n",
      "6378        of     24\n",
      "722        and     18\n",
      "4616        in     17\n",
      "4284        he     10\n",
      "9162        to      9\n",
      "4086  governor      6\n",
      "372          a      6\n",
      "4387       his      5\n",
      "903         as      5\n"
     ]
    }
   ],
   "source": [
    "def top_words(name):\n",
    "    \"\"\"\n",
    "    Get a table of the most frequent words in the given person's Wikipedia page.\n",
    "    \"\"\"\n",
    "    # Locate the index of the given person's page\n",
    "    person_index = wiki[wiki['name'] == name].index[0]\n",
    "    \n",
    "    # Extract the word count vector for the person\n",
    "    person_vector = WCmatrix[person_index]\n",
    "    \n",
    "    # Get the vocabulary (mapping of words to column indices)\n",
    "    vocab = vectorizer.get_feature_names_out()\n",
    "    \n",
    "    # Convert the sparse matrix to a dense array\n",
    "    word_counts = person_vector.toarray().flatten()\n",
    "    \n",
    "    # Create a DataFrame of words and their counts\n",
    "    df = pd.DataFrame({'word': vocab, 'count': word_counts})\n",
    "    \n",
    "    # Sort by count in descending order\n",
    "    return df.sort_values(by='count', ascending=False)\n",
    "\n",
    "# Get the top words for Barack Obama and Francisco Barrio\n",
    "obama_words = top_words('Barack Obama')\n",
    "barrio_words = top_words('Francisco Barrio')\n",
    "\n",
    "# Display the top 10 words for each\n",
    "print(\"Top words for Barack Obama:\")\n",
    "print(obama_words.head(10))\n",
    "\n",
    "print(\"\\nTop words for Francisco Barrio:\")\n",
    "print(barrio_words.head(10))\n"
   ]
  },
  {
   "cell_type": "markdown",
   "metadata": {},
   "source": [
    "Most of the top words for both Barack Obama and Francisco Barrio are common function words like \"the,\" \"of,\" \"and,\" \"in,\" and \"to.\" These words do not carry significant meaning by themselves, which is typical in most text analyses. However, a few key terms stand out - \"act\" and \"obama\" in Obama's case, and \"governor\" in Barrio's. This suggests that while the texts primarily rely on general language, the specific terms highlight the core themes or roles associated with each figure. \"Act\" can refer to significant legislation in Obama´s presidency, while \"obama\" highlights his personal legacy. \"Governor\" focuses on Barrio's political role, suggesting the text centers around his leadership and regional impact."
   ]
  },
  {
   "cell_type": "markdown",
   "metadata": {},
   "source": [
    "**d)** Extract the list of most frequent **common** words that appear in both Obama's and Barrio's documents and display the five words that appear most often in Barrio's article.\n",
    "\n",
    "Use a dataframe operation known as **join**. The **join** operation is very useful when it comes to playing around with data: it lets you combine the content of two tables using a shared column (in this case, the index column of words). See [the documentation](https://pandas.pydata.org/pandas-docs/stable/reference/api/pandas.DataFrame.join.html) for more details."
   ]
  },
  {
   "cell_type": "code",
   "execution_count": 8,
   "metadata": {
    "jupyter": {
     "outputs_hidden": false
    }
   },
   "outputs": [
    {
     "name": "stdout",
     "output_type": "stream",
     "text": [
      "      count_Obama  count_Barrio\n",
      "word                           \n",
      "the            40            36\n",
      "of             18            24\n",
      "and            21            18\n",
      "in             30            17\n",
      "he              7            10\n"
     ]
    }
   ],
   "source": [
    "# Extract top words for Barack Obama and Francisco Barrio\n",
    "obama_words = top_words('Barack Obama').set_index('word')\n",
    "barrio_words = top_words('Francisco Barrio').set_index('word')\n",
    "\n",
    "# Join the two DataFrames on the 'word' index\n",
    "common_words = obama_words.join(barrio_words, how='inner', lsuffix='_Obama', rsuffix='_Barrio')\n",
    "\n",
    "# Sort by the word frequency in Francisco Barrio's article\n",
    "common_words_sorted = common_words.sort_values(by='count_Barrio', ascending=False)\n",
    "\n",
    "# Display the top 5 words that appear most often in Barrio's article\n",
    "print(common_words_sorted.head(5))"
   ]
  },
  {
   "cell_type": "markdown",
   "metadata": {},
   "source": [
    "Collect all words that appear both in Barack Obama and George W. Bush pages.  Out of those words, find the 10 words that show up most often in Obama's page. "
   ]
  },
  {
   "cell_type": "code",
   "execution_count": 9,
   "metadata": {},
   "outputs": [
    {
     "name": "stdout",
     "output_type": "stream",
     "text": [
      "       count_Obama  count_Bush\n",
      "word                          \n",
      "the             40          39\n",
      "in              30          22\n",
      "and             21          14\n",
      "of              18          14\n",
      "to              14          11\n",
      "his             11           6\n",
      "obama            9           0\n",
      "act              8           3\n",
      "a                7           6\n",
      "he               7           8\n"
     ]
    }
   ],
   "source": [
    "# Extract top words for Barack Obama and George W. Bush\n",
    "obama_words = top_words('Barack Obama').set_index('word')\n",
    "bush_words = top_words('George W. Bush').set_index('word')\n",
    "\n",
    "# Perform an inner join to find common words between the two pages\n",
    "common_words = obama_words.join(bush_words, how='inner', lsuffix='_Obama', rsuffix='_Bush')\n",
    "\n",
    "# Sort by the frequency in Barack Obama's article\n",
    "common_words_sorted = common_words.sort_values(by='count_Obama', ascending=False)\n",
    "\n",
    "# Display the top 10 words that appear most often in Obama's article\n",
    "print(common_words_sorted.head(10))"
   ]
  },
  {
   "cell_type": "markdown",
   "metadata": {},
   "source": [
    "**Note.** Even though common words are swamping out important subtle differences, commonalities in rarer political words still matter on the margin. This is why politicians are being listed in the query result instead of musicians, for example. In the next subsection, we will introduce a different metric that will place greater emphasis on those rarer words."
   ]
  },
  {
   "cell_type": "markdown",
   "metadata": {},
   "source": [
    "**e)** Among the words that appear in both Barack Obama and Francisco Barrio, take the 15 that appear most frequently in Obama. How many of the articles in the Wikipedia dataset contain all of those 15 words? Which are they?"
   ]
  },
  {
   "cell_type": "code",
   "execution_count": 10,
   "metadata": {},
   "outputs": [
    {
     "name": "stdout",
     "output_type": "stream",
     "text": [
      "Number of common words: 55\n",
      "Indices of the 15 most frequent common words that appear most frequently in Obama: [488148, 251905, 58906, 138583, 360068, 494541, 239271, 486470, 395598, 375068, 395661, 263885, 233774, 466805, 23789]\n",
      "The 15 words that appear most frequently in Obama's article: ['the', 'in', 'and', 'control', 'of', 'to', 'his', 'term', 'president', 'party', 'presidential', 'january', 'he', 'states', '2009']\n",
      "Number of articles containing all top 15 words: 3\n",
      "Articles containing all top 15 words: ['Francisco Barrio', 'Joe Biden', 'Barack Obama']\n"
     ]
    }
   ],
   "source": [
    "from sklearn.feature_extraction.text import TfidfVectorizer\n",
    "\n",
    "# Create the TF-IDF matrix\n",
    "vectorizer = TfidfVectorizer()\n",
    "tfidf_matrix = vectorizer.fit_transform(wiki['text'])\n",
    "\n",
    "# Get indices of Barack Obama and Francisco Barrio\n",
    "obama_index = wiki[wiki['name'] == \"Barack Obama\"].index[0]\n",
    "barrio_index = wiki[wiki['name'] == \"Francisco Barrio\"].index[0]\n",
    "\n",
    "# Extract unique words (column indices) for each article\n",
    "obama_words = set(tfidf_matrix[obama_index].nonzero()[1])\n",
    "barrio_words = set(tfidf_matrix[barrio_index].nonzero()[1])\n",
    "\n",
    "# Find common words\n",
    "common_words = obama_words.intersection(barrio_words)\n",
    "print(\"Number of common words:\", len(common_words))\n",
    "\n",
    "# Calculate word frequencies in Obama's article\n",
    "obama_freq = tfidf_matrix[obama_index].toarray().flatten()\n",
    "\n",
    "# Filter frequencies for common words\n",
    "common_word_freqs = [(word, obama_freq[word]) for word in common_words]\n",
    "\n",
    "# Sort by frequency and select the top 15\n",
    "top_15_words = [word for word, freq in sorted(common_word_freqs, key=lambda x: x[1], reverse=True)[:15]]\n",
    "print(\"Indices of the 15 most frequent common words that appear most frequently in Obama:\", top_15_words)\n",
    "\n",
    "# Get the actual words\n",
    "word_list = vectorizer.get_feature_names_out()\n",
    "top_15_word_names = [word_list[word] for word in top_15_words]\n",
    "print(\"The 15 words that appear most frequently in Obama's article:\", top_15_word_names)\n",
    "\n",
    "# Check which articles contain all 15 words\n",
    "contains_all = []\n",
    "for i in range(tfidf_matrix.shape[0]):\n",
    "    article_words = set(tfidf_matrix[i].nonzero()[1])\n",
    "    if all(word in article_words for word in top_15_words):\n",
    "        contains_all.append(wiki.iloc[i]['name'])\n",
    "\n",
    "# Print results\n",
    "print(\"Number of articles containing all top 15 words:\", len(contains_all))\n",
    "print(\"Articles containing all top 15 words:\", contains_all)"
   ]
  },
  {
   "cell_type": "markdown",
   "metadata": {},
   "source": [
    "## Ex. 3: TF-IDF to the rescue"
   ]
  },
  {
   "cell_type": "markdown",
   "metadata": {},
   "source": [
    "Much of the perceived commonalities between Obama and Barrio were due to occurrences of extremely frequent words, such as \"the\", \"and\", and \"his\". So nearest neighbors is recommending plausible results sometimes for the wrong reasons.\n",
    "\n",
    "To retrieve articles that are more relevant, we should focus more on rare words that don't happen in every article. **TF-IDF** (term frequency–inverse document frequency) is a feature representation that penalizes words that are too common."
   ]
  },
  {
   "cell_type": "markdown",
   "metadata": {},
   "source": [
    "**a)** Repeat the search for the 10 nearest neighbors of Barack Obama with Euclidean distance of TF-IDF. This time do not limit to only 10000 most frequent words, but take all of them."
   ]
  },
  {
   "cell_type": "code",
   "execution_count": 11,
   "metadata": {},
   "outputs": [],
   "source": [
    "# We could use:\n",
    "    # from sklearn.feature_extraction.text import TfidfVectorizer\n",
    "# but since we already know how to compute CountVectorizer, let's use:\n",
    "from sklearn.feature_extraction.text import CountVectorizer, TfidfTransformer\n",
    "\n",
    "# Use CountVectorizer to convert the text data into a word count matrix\n",
    "vectorizer = CountVectorizer(token_pattern=r\"(?u)\\b\\w+\\b\", stop_words=None)  # No stop words\n",
    "WCmatrix = vectorizer.fit_transform(wiki['text'])  # Assuming 'wiki['text']' holds the text data\n",
    "\n",
    "# Use TfidfTransformer to transform the word count matrix into a TF-IDF matrix\n",
    "tfidf = TfidfTransformer(smooth_idf=False, norm=None)  # Use smooth_idf=False and norm=None\n",
    "TFIDFmatrix = tfidf.fit_transform(WCmatrix)  # Transform the word count matrix to TF-IDF matrix"
   ]
  },
  {
   "cell_type": "code",
   "execution_count": 12,
   "metadata": {},
   "outputs": [
    {
     "data": {
      "text/html": [
       "<div>\n",
       "<style scoped>\n",
       "    .dataframe tbody tr th:only-of-type {\n",
       "        vertical-align: middle;\n",
       "    }\n",
       "\n",
       "    .dataframe tbody tr th {\n",
       "        vertical-align: top;\n",
       "    }\n",
       "\n",
       "    .dataframe thead th {\n",
       "        text-align: right;\n",
       "    }\n",
       "</style>\n",
       "<table border=\"1\" class=\"dataframe\">\n",
       "  <thead>\n",
       "    <tr style=\"text-align: right;\">\n",
       "      <th></th>\n",
       "      <th>name</th>\n",
       "      <th>BO-eucl-TF-IDF</th>\n",
       "    </tr>\n",
       "  </thead>\n",
       "  <tbody>\n",
       "    <tr>\n",
       "      <th>35817</th>\n",
       "      <td>Barack Obama</td>\n",
       "      <td>0.000000</td>\n",
       "    </tr>\n",
       "    <tr>\n",
       "      <th>38376</th>\n",
       "      <td>Samantha Power</td>\n",
       "      <td>139.364493</td>\n",
       "    </tr>\n",
       "    <tr>\n",
       "      <th>46811</th>\n",
       "      <td>Jeff Sessions</td>\n",
       "      <td>139.757740</td>\n",
       "    </tr>\n",
       "    <tr>\n",
       "      <th>7914</th>\n",
       "      <td>Phil Schiliro</td>\n",
       "      <td>139.812175</td>\n",
       "    </tr>\n",
       "    <tr>\n",
       "      <th>38714</th>\n",
       "      <td>Eric Stern (politician)</td>\n",
       "      <td>140.450064</td>\n",
       "    </tr>\n",
       "    <tr>\n",
       "      <th>6507</th>\n",
       "      <td>Bob Menendez</td>\n",
       "      <td>141.661111</td>\n",
       "    </tr>\n",
       "    <tr>\n",
       "      <th>44681</th>\n",
       "      <td>Jesse Lee (politician)</td>\n",
       "      <td>142.342440</td>\n",
       "    </tr>\n",
       "    <tr>\n",
       "      <th>6796</th>\n",
       "      <td>Eric Holder</td>\n",
       "      <td>142.490179</td>\n",
       "    </tr>\n",
       "    <tr>\n",
       "      <th>38495</th>\n",
       "      <td>Barney Frank</td>\n",
       "      <td>142.581337</td>\n",
       "    </tr>\n",
       "    <tr>\n",
       "      <th>56008</th>\n",
       "      <td>Nathan Cullen</td>\n",
       "      <td>142.751073</td>\n",
       "    </tr>\n",
       "  </tbody>\n",
       "</table>\n",
       "</div>"
      ],
      "text/plain": [
       "                          name  BO-eucl-TF-IDF\n",
       "35817             Barack Obama        0.000000\n",
       "38376           Samantha Power      139.364493\n",
       "46811            Jeff Sessions      139.757740\n",
       "7914             Phil Schiliro      139.812175\n",
       "38714  Eric Stern (politician)      140.450064\n",
       "6507              Bob Menendez      141.661111\n",
       "44681   Jesse Lee (politician)      142.342440\n",
       "6796               Eric Holder      142.490179\n",
       "38495             Barney Frank      142.581337\n",
       "56008            Nathan Cullen      142.751073"
      ]
     },
     "execution_count": 12,
     "metadata": {},
     "output_type": "execute_result"
    }
   ],
   "source": [
    "# Compute pairwise distances between Barack Obama's TF-IDF vector and all other articles\n",
    "dist = pairwise_distances(\n",
    "    TFIDFmatrix[obama_index],  # Single row for Barack Obama\n",
    "    TFIDFmatrix,  # All rows (entire dataset)\n",
    "    metric='euclidean'  # Euclidean distance metric\n",
    ").flatten()  # Flatten to a 1D array\n",
    "\n",
    "# Add the distances as a column in the wiki DataFrame\n",
    "wiki['BO-eucl-TF-IDF'] = dist\n",
    "\n",
    "# Sort and display the closest neighbors to Barack Obama\n",
    "wiki_sorted = wiki.sort_values(by='BO-eucl-TF-IDF', ascending=True)\n",
    "wiki_sorted[['name', 'BO-eucl-TF-IDF']].head(10)\n"
   ]
  },
  {
   "cell_type": "markdown",
   "metadata": {},
   "source": [
    "Let's determine whether this list makes sense.\n",
    "* With a notable exception of Nathan Cullen, the other 8 are all American politicians who are contemporaries of Barack Obama.\n",
    "* Phil Schiliro, Jesse Lee, Samantha Power, Eric Stern, Eric Holder worked for Obama.\n",
    "\n",
    "Clearly, the results are more plausible with the use of TF-IDF. Let's take a look at the word vector for Obama and Schilirio's pages. Notice that TF-IDF representation assigns a weight to each word. This weight captures relative importance of that word in the document."
   ]
  },
  {
   "cell_type": "markdown",
   "metadata": {},
   "source": [
    "**b)** Sort the words in Obama's article by their TF-IDF weights; do the same for Schiliro's article as well.\n",
    "Using the **join** operation we learned earlier, compute the common words shared by Obama's and Schiliro's articles.\n",
    "Sort the common words by their TF-IDF weights in Obama's document."
   ]
  },
  {
   "cell_type": "code",
   "execution_count": 13,
   "metadata": {},
   "outputs": [
    {
     "data": {
      "text/html": [
       "<div>\n",
       "<style scoped>\n",
       "    .dataframe tbody tr th:only-of-type {\n",
       "        vertical-align: middle;\n",
       "    }\n",
       "\n",
       "    .dataframe tbody tr th {\n",
       "        vertical-align: top;\n",
       "    }\n",
       "\n",
       "    .dataframe thead th {\n",
       "        text-align: right;\n",
       "    }\n",
       "</style>\n",
       "<table border=\"1\" class=\"dataframe\">\n",
       "  <thead>\n",
       "    <tr style=\"text-align: right;\">\n",
       "      <th></th>\n",
       "      <th>word</th>\n",
       "      <th>tf-idf_Obama</th>\n",
       "      <th>tf-idf_Schiliro</th>\n",
       "    </tr>\n",
       "  </thead>\n",
       "  <tbody>\n",
       "    <tr>\n",
       "      <th>358582</th>\n",
       "      <td>obama</td>\n",
       "      <td>52.295653</td>\n",
       "      <td>11.621256</td>\n",
       "    </tr>\n",
       "    <tr>\n",
       "      <th>488178</th>\n",
       "      <td>the</td>\n",
       "      <td>40.004063</td>\n",
       "      <td>10.001016</td>\n",
       "    </tr>\n",
       "    <tr>\n",
       "      <th>45084</th>\n",
       "      <td>act</td>\n",
       "      <td>35.678223</td>\n",
       "      <td>0.000000</td>\n",
       "    </tr>\n",
       "    <tr>\n",
       "      <th>251924</th>\n",
       "      <td>in</td>\n",
       "      <td>30.028962</td>\n",
       "      <td>5.004827</td>\n",
       "    </tr>\n",
       "    <tr>\n",
       "      <th>259239</th>\n",
       "      <td>iraq</td>\n",
       "      <td>21.747379</td>\n",
       "      <td>0.000000</td>\n",
       "    </tr>\n",
       "    <tr>\n",
       "      <th>58917</th>\n",
       "      <td>and</td>\n",
       "      <td>21.015648</td>\n",
       "      <td>6.004471</td>\n",
       "    </tr>\n",
       "    <tr>\n",
       "      <th>292533</th>\n",
       "      <td>law</td>\n",
       "      <td>20.722936</td>\n",
       "      <td>10.361468</td>\n",
       "    </tr>\n",
       "    <tr>\n",
       "      <th>138596</th>\n",
       "      <td>control</td>\n",
       "      <td>18.887061</td>\n",
       "      <td>0.000000</td>\n",
       "    </tr>\n",
       "    <tr>\n",
       "      <th>360093</th>\n",
       "      <td>of</td>\n",
       "      <td>18.074811</td>\n",
       "      <td>9.037406</td>\n",
       "    </tr>\n",
       "    <tr>\n",
       "      <th>512230</th>\n",
       "      <td>us</td>\n",
       "      <td>17.592644</td>\n",
       "      <td>0.000000</td>\n",
       "    </tr>\n",
       "  </tbody>\n",
       "</table>\n",
       "</div>"
      ],
      "text/plain": [
       "           word  tf-idf_Obama  tf-idf_Schiliro\n",
       "358582    obama     52.295653        11.621256\n",
       "488178      the     40.004063        10.001016\n",
       "45084       act     35.678223         0.000000\n",
       "251924       in     30.028962         5.004827\n",
       "259239     iraq     21.747379         0.000000\n",
       "58917       and     21.015648         6.004471\n",
       "292533      law     20.722936        10.361468\n",
       "138596  control     18.887061         0.000000\n",
       "360093       of     18.074811         9.037406\n",
       "512230       us     17.592644         0.000000"
      ]
     },
     "execution_count": 13,
     "metadata": {},
     "output_type": "execute_result"
    }
   ],
   "source": [
    "def top_words_tf_idf(name):\n",
    "    \"\"\"\n",
    "    Get a table of the largest tf-idf words in the given person's Wikipedia page.\n",
    "    \"\"\"\n",
    "    # Get the index of the person's article\n",
    "    person_index = wiki[wiki['name'] == name].index[0]\n",
    "    \n",
    "    # Extract the row corresponding to the person from the TF-IDF matrix\n",
    "    tfidf_values = TFIDFmatrix[person_index].toarray().flatten()\n",
    "    \n",
    "    # Map each word to its corresponding TF-IDF value\n",
    "    df = pd.DataFrame({\n",
    "        'word': vectorizer.get_feature_names_out(),\n",
    "        'tf-idf': tfidf_values\n",
    "    })\n",
    "    \n",
    "    # Return the sorted DataFrame by TF-IDF values\n",
    "    return df.sort_values(by='tf-idf', ascending=False)\n",
    "\n",
    "# Get top words by TF-IDF for Barack Obama and Phil Schiliro\n",
    "obama_tf_idf = top_words_tf_idf('Barack Obama')\n",
    "schiliro_tf_idf = top_words_tf_idf('Phil Schiliro')\n",
    "\n",
    "# Use join function\n",
    "common_words = obama_tf_idf.join(\n",
    "    schiliro_tf_idf.set_index('word'), \n",
    "    on='word', \n",
    "    how='inner', \n",
    "    rsuffix='_Schiliro'\n",
    ")\n",
    "\n",
    "# Sort the common words by TF-IDF weights in Barack Obama's document\n",
    "common_words_sorted = common_words.sort_values(by='tf-idf', ascending=False)\n",
    "\n",
    "# Make sure to use the correct column names\n",
    "common_words_sorted = common_words_sorted.rename(columns={\n",
    "    'tf-idf': 'tf-idf_Obama', \n",
    "    f'tf-idf_Schiliro': 'tf-idf_Schiliro'\n",
    "})\n",
    "\n",
    "# Display the sorted common words\n",
    "common_words_sorted.head(10)\n"
   ]
  },
  {
   "cell_type": "markdown",
   "metadata": {},
   "source": [
    "**c)** Among the words that appear in both Barack Obama and Phil Schiliro, take the 15 that have largest weights in Obama. How many of the articles in the Wikipedia dataset contain all of those 15 words? Which are they?"
   ]
  },
  {
   "cell_type": "code",
   "execution_count": 14,
   "metadata": {},
   "outputs": [
    {
     "name": "stdout",
     "output_type": "stream",
     "text": [
      "Number of articles that contain all 15 words: 1\n",
      "Articles that contain all 15 words:\n"
     ]
    },
    {
     "data": {
      "text/plain": [
       "(None,\n",
       " 35817    Barack Obama\n",
       " Name: name, dtype: object)"
      ]
     },
     "execution_count": 14,
     "metadata": {},
     "output_type": "execute_result"
    }
   ],
   "source": [
    "# Step 1: Get the 15 common words with the largest TF-IDF weights in Obama's article. We use \"common_words_sorted\" created in teh previous exercise for getting the words that appears in both Obama and Schiliro\n",
    "top_15_common_words = common_words_sorted.head(15)['word'].tolist()\n",
    "\n",
    "# Step 2: Create a dictionary that maps words to indices\n",
    "word_to_ind = {v: i for i, v in enumerate(vectorizer.get_feature_names_out())}\n",
    "\n",
    "# Step 3: Get the indices of the top 15 common words in the TF-IDF matrix\n",
    "top_15_indices = [word_to_ind[word] for word in top_15_common_words]\n",
    "\n",
    "# Step 4: Create a binary matrix indicating the presence of the words in the articles\n",
    "word_presence = (TFIDFmatrix[:, top_15_indices] > 0)  # Presence = TF-IDF > 0\n",
    "\n",
    "# Step 5: Convert the sparse matrix to a dense format and determine which articles contain all of the words\n",
    "word_presence_dense = word_presence.toarray()\n",
    "articles = word_presence_dense.all(axis=1)  # True for articles that contain all 15 words\n",
    "\n",
    "# Step 6: Count the number of articles and display the names of those articles\n",
    "print(\"Number of articles that contain all 15 words:\", articles.sum())\n",
    "print(\"Articles that contain all 15 words:\"), wiki[articles]['name']"
   ]
  },
  {
   "cell_type": "markdown",
   "metadata": {},
   "source": [
    "Notice the huge difference in this calculation using TF-IDF scores instead  of raw word counts. We've eliminated noise arising from extremely common words."
   ]
  },
  {
   "cell_type": "markdown",
   "metadata": {},
   "source": [
    "## Ex. 4: Choosing metrics"
   ]
  },
  {
   "cell_type": "markdown",
   "metadata": {},
   "source": [
    "**a)** Compute the Euclidean distance between TF-IDF features of Obama and Biden."
   ]
  },
  {
   "cell_type": "code",
   "execution_count": 15,
   "metadata": {},
   "outputs": [
    {
     "name": "stdout",
     "output_type": "stream",
     "text": [
      "Euclidean distance between Obama and Biden's TF-IDF features: 148.77845413077893\n"
     ]
    }
   ],
   "source": [
    "# Get the indices of Obama and Biden\n",
    "obama_index = wiki[wiki['name'] == \"Barack Obama\"].index[0]\n",
    "biden_index = wiki[wiki['name'] == \"Joe Biden\"].index[0]\n",
    "\n",
    "# Extract the TF-IDF vectors for Obama and Biden\n",
    "obama_tfidf = TFIDFmatrix[obama_index].toarray().flatten()\n",
    "biden_tfidf = TFIDFmatrix[biden_index].toarray().flatten()\n",
    "\n",
    "# Compute the Euclidean distance between their TF-IDF vectors\n",
    "dist = pairwise_distances([obama_tfidf], [biden_tfidf], metric='euclidean')\n",
    "\n",
    "# Display the computed distance\n",
    "print(\"Euclidean distance between Obama and Biden's TF-IDF features:\", dist[0][0])"
   ]
  },
  {
   "cell_type": "markdown",
   "metadata": {},
   "source": [
    "The distance is larger than the distances we found for the 10 nearest neighbors, which we repeat here for readability:"
   ]
  },
  {
   "cell_type": "code",
   "execution_count": 16,
   "metadata": {
    "jupyter": {
     "outputs_hidden": false
    }
   },
   "outputs": [
    {
     "data": {
      "text/html": [
       "<div>\n",
       "<style scoped>\n",
       "    .dataframe tbody tr th:only-of-type {\n",
       "        vertical-align: middle;\n",
       "    }\n",
       "\n",
       "    .dataframe tbody tr th {\n",
       "        vertical-align: top;\n",
       "    }\n",
       "\n",
       "    .dataframe thead th {\n",
       "        text-align: right;\n",
       "    }\n",
       "</style>\n",
       "<table border=\"1\" class=\"dataframe\">\n",
       "  <thead>\n",
       "    <tr style=\"text-align: right;\">\n",
       "      <th></th>\n",
       "      <th>name</th>\n",
       "      <th>BO-eucl-TF-IDF</th>\n",
       "    </tr>\n",
       "  </thead>\n",
       "  <tbody>\n",
       "    <tr>\n",
       "      <th>35817</th>\n",
       "      <td>Barack Obama</td>\n",
       "      <td>0.000000</td>\n",
       "    </tr>\n",
       "    <tr>\n",
       "      <th>38376</th>\n",
       "      <td>Samantha Power</td>\n",
       "      <td>139.364493</td>\n",
       "    </tr>\n",
       "    <tr>\n",
       "      <th>46811</th>\n",
       "      <td>Jeff Sessions</td>\n",
       "      <td>139.757740</td>\n",
       "    </tr>\n",
       "    <tr>\n",
       "      <th>7914</th>\n",
       "      <td>Phil Schiliro</td>\n",
       "      <td>139.812175</td>\n",
       "    </tr>\n",
       "    <tr>\n",
       "      <th>38714</th>\n",
       "      <td>Eric Stern (politician)</td>\n",
       "      <td>140.450064</td>\n",
       "    </tr>\n",
       "    <tr>\n",
       "      <th>6507</th>\n",
       "      <td>Bob Menendez</td>\n",
       "      <td>141.661111</td>\n",
       "    </tr>\n",
       "    <tr>\n",
       "      <th>44681</th>\n",
       "      <td>Jesse Lee (politician)</td>\n",
       "      <td>142.342440</td>\n",
       "    </tr>\n",
       "    <tr>\n",
       "      <th>6796</th>\n",
       "      <td>Eric Holder</td>\n",
       "      <td>142.490179</td>\n",
       "    </tr>\n",
       "    <tr>\n",
       "      <th>38495</th>\n",
       "      <td>Barney Frank</td>\n",
       "      <td>142.581337</td>\n",
       "    </tr>\n",
       "    <tr>\n",
       "      <th>56008</th>\n",
       "      <td>Nathan Cullen</td>\n",
       "      <td>142.751073</td>\n",
       "    </tr>\n",
       "  </tbody>\n",
       "</table>\n",
       "</div>"
      ],
      "text/plain": [
       "                          name  BO-eucl-TF-IDF\n",
       "35817             Barack Obama        0.000000\n",
       "38376           Samantha Power      139.364493\n",
       "46811            Jeff Sessions      139.757740\n",
       "7914             Phil Schiliro      139.812175\n",
       "38714  Eric Stern (politician)      140.450064\n",
       "6507              Bob Menendez      141.661111\n",
       "44681   Jesse Lee (politician)      142.342440\n",
       "6796               Eric Holder      142.490179\n",
       "38495             Barney Frank      142.581337\n",
       "56008            Nathan Cullen      142.751073"
      ]
     },
     "execution_count": 16,
     "metadata": {},
     "output_type": "execute_result"
    }
   ],
   "source": [
    "wiki.sort_values(by='BO-eucl-TF-IDF',ascending=True)[['name','BO-eucl-TF-IDF']][0:10]"
   ]
  },
  {
   "cell_type": "markdown",
   "metadata": {},
   "source": [
    "But one may wonder, is Biden's article that different from Obama's, more so than, say, Schiliro's? It turns out that, when we compute nearest neighbors using the Euclidean distances, we unwittingly favor short articles over long ones."
   ]
  },
  {
   "cell_type": "markdown",
   "metadata": {},
   "source": [
    "**b)** Let us compute the length of each Wikipedia document, and examine the document lengths for the 100 nearest neighbors to Obama's page. To compute text length use the same splitting rules you used in `vectorizer`."
   ]
  },
  {
   "cell_type": "code",
   "execution_count": 17,
   "metadata": {
    "jupyter": {
     "outputs_hidden": false
    },
    "scrolled": true
   },
   "outputs": [
    {
     "name": "stdout",
     "output_type": "stream",
     "text": [
      "35817    531\n",
      "24478    407\n",
      "38376    303\n",
      "2412     210\n",
      "38714    253\n",
      "        ... \n",
      "25566    309\n",
      "49430    276\n",
      "57793    224\n",
      "18752    231\n",
      "16155    262\n",
      "Name: length, Length: 100, dtype: int64\n"
     ]
    }
   ],
   "source": [
    "from sklearn.metrics.pairwise import euclidean_distances\n",
    "\n",
    "# Initialize and fit TF-IDF vectorizer\n",
    "vectorizer = TfidfVectorizer(stop_words='english', max_features=10000)\n",
    "TFIDFmatrix = vectorizer.fit_transform(wiki['text'])\n",
    "\n",
    "# Define tokenizer based on the vectorizer\n",
    "tokenizer = vectorizer.build_tokenizer()\n",
    "\n",
    "# Compute document lengths using the tokenizer\n",
    "wiki['length'] = wiki['text'].apply(lambda x: len(tokenizer(x)))\n",
    "\n",
    "# Find Barack Obama's index\n",
    "obama_index = wiki[wiki['name'] == \"Barack Obama\"].index[0]\n",
    "\n",
    "# Compute Euclidean distances\n",
    "distances = euclidean_distances(TFIDFmatrix[obama_index], TFIDFmatrix).flatten()\n",
    "\n",
    "# Find the 100 nearest neighbors (excluding Obama himself)\n",
    "nearest_neighbors_indices = distances.argsort()[:100]\n",
    "\n",
    "# Extract lengths of the 100 nearest neighbors\n",
    "nearest_neighbors_lengths = wiki.iloc[nearest_neighbors_indices]['length']\n",
    "\n",
    "# Display document lengths for Obama's 100 nearest neighbors\n",
    "print(nearest_neighbors_lengths)"
   ]
  },
  {
   "cell_type": "markdown",
   "metadata": {},
   "source": [
    "**c)** To see how these document lengths compare to the lengths of other documents in the corpus, make a histogram of the document lengths of Obama's 100 nearest neighbors and compare to a histogram of document lengths for all documents."
   ]
  },
  {
   "cell_type": "code",
   "execution_count": 18,
   "metadata": {
    "jupyter": {
     "outputs_hidden": false
    },
    "scrolled": false
   },
   "outputs": [
    {
     "data": {
      "image/png": "[encoded data removed]",
      "text/plain": [
       "<Figure size 1200x600 with 1 Axes>"
      ]
     },
     "metadata": {},
     "output_type": "display_data"
    }
   ],
   "source": [
    "# Plot histograms\n",
    "plt.figure(figsize=(12, 6))\n",
    "plt.hist(wiki['length'], bins=50, alpha=0.5, label='All Documents', color='blue')\n",
    "plt.hist(nearest_neighbors_lengths, bins=20, alpha=0.9, label=\"Obama's Nearest Neighbors\", color='orange')\n",
    "plt.xlabel('Document Length')\n",
    "plt.ylabel('Frequency')\n",
    "plt.legend(loc='upper right')\n",
    "plt.title('Comparison of Document Lengths')\n",
    "plt.yscale('log')  # Logarithmic scale for better clarity\n",
    "plt.show()\n"
   ]
  },
  {
   "cell_type": "markdown",
   "metadata": {},
   "source": [
    "The Euclidean distance histogram shows a noticeable bias toward shorter documents among Barack Obama’s 100 nearest neighbors. This occurs because Euclidean distance is sensitive to vector magnitude, which tends to be smaller for shorter documents, leading to the clustering of lower-length texts that share overlapping terms with Obama’s article. As a result, the Euclidean approach often highlights documents that are similar in structure but not necessarily in content depth or complexity."
   ]
  },
  {
   "cell_type": "markdown",
   "metadata": {},
   "source": [
    "Relative to the rest of Wikipedia, nearest neighbors of Obama are overwhemingly short, most of them being shorter than 300 words. The bias towards short articles is not appropriate in this application as there is really no reason to  favor short articles over long articles (they are all Wikipedia articles, after all). Many of the Wikipedia articles are 300 words or more, and both Obama and Biden are over 300 words long.\n",
    "\n",
    "**Note**: For the interest of computation time, the dataset given here contains _excerpts_ of the articles rather than full text. For instance, the actual Wikipedia article about Obama is around 25000 words. Do not be surprised by the low numbers shown in the histogram."
   ]
  },
  {
   "cell_type": "markdown",
   "metadata": {},
   "source": [
    "**Note:** Both word-count features and TF-IDF are proportional to word frequencies. While TF-IDF penalizes very common words, longer articles tend to have longer TF-IDF vectors simply because they have more words in them."
   ]
  },
  {
   "cell_type": "markdown",
   "metadata": {},
   "source": [
    "To remove this bias, we turn to **cosine distances**:\n",
    "$$\n",
    "d(\\mathbf{x},\\mathbf{y}) = 1 - \\frac{\\mathbf{x}^T\\mathbf{y}}{\\|\\mathbf{x}\\| \\|\\mathbf{y}\\|}\n",
    "$$\n",
    "Cosine distances let us compare word distributions of two articles of varying lengths."
   ]
  },
  {
   "cell_type": "markdown",
   "metadata": {},
   "source": [
    "**d)** Train a new nearest neighbor model, this time with cosine distances.  Then repeat the search for Obama's 100 nearest neighbors and make a plot to better visualize the effect of having used cosine distance in place of Euclidean on our TF-IDF vectors."
   ]
  },
  {
   "cell_type": "code",
   "execution_count": 19,
   "metadata": {
    "jupyter": {
     "outputs_hidden": false
    }
   },
   "outputs": [
    {
     "name": "stdout",
     "output_type": "stream",
     "text": [
      "35817    531\n",
      "24478    407\n",
      "38376    303\n",
      "2412     210\n",
      "38714    253\n",
      "        ... \n",
      "25566    309\n",
      "49430    276\n",
      "57793    224\n",
      "18752    231\n",
      "16155    262\n",
      "Name: length, Length: 100, dtype: int64\n"
     ]
    }
   ],
   "source": [
    "from sklearn.metrics.pairwise import cosine_distances\n",
    "\n",
    "# Compute cosine distances incrementally for Barack Obama's article\n",
    "obama_cosine_distances = cosine_distances(TFIDFmatrix[obama_index], TFIDFmatrix).flatten()\n",
    "\n",
    "# Add these distances to the DataFrame\n",
    "wiki['obama_cosine_distances'] = obama_cosine_distances\n",
    "\n",
    "# Find the 100 nearest neighbors\n",
    "nearest_neighbors_cosine = wiki.nsmallest(100, 'obama_cosine_distances')\n",
    "\n",
    "# Display the nearest neighbors\n",
    "nearest_neighbors_cosine_lengths = nearest_neighbors_cosine['length']\n",
    "print(nearest_neighbors_cosine_lengths)\n"
   ]
  },
  {
   "cell_type": "markdown",
   "metadata": {},
   "source": [
    "From a glance at the above table, things look better.  For example, we now see Joe Biden as Barack Obama's nearest neighbor!  We also see Hillary Clinton on the list.  This list looks even more plausible as nearest neighbors of Barack Obama."
   ]
  },
  {
   "cell_type": "code",
   "execution_count": 20,
   "metadata": {
    "jupyter": {
     "outputs_hidden": false
    },
    "scrolled": false
   },
   "outputs": [
    {
     "data": {
      "image/png": "[encoded data removed]",
      "text/plain": [
       "<Figure size 1200x600 with 1 Axes>"
      ]
     },
     "metadata": {},
     "output_type": "display_data"
    }
   ],
   "source": [
    "# Plot histogram for all documents and cosine nearest neighbors\n",
    "plt.figure(figsize=(12, 6))\n",
    "plt.hist(wiki['length'], bins=50, alpha=0.5, label='All Documents', color='blue', density=True)\n",
    "plt.hist(nearest_neighbors_cosine_lengths, bins=20, alpha=0.9, label=\"Cosine Nearest Neighbors\", color='orange', density=True)\n",
    "plt.xlabel('Document Length')\n",
    "plt.ylabel('Density')\n",
    "plt.legend(loc='upper right')\n",
    "plt.title('Comparison of Document Lengths (Cosine Distance)')\n",
    "plt.yscale('log')  # Logarithmic scale for better clarity\n",
    "plt.show()\n"
   ]
  },
  {
   "cell_type": "markdown",
   "metadata": {},
   "source": [
    "The cosine distance histogram displays a broader distribution of document lengths. Cosine similarity normalizes for vector magnitude, focusing purely on the angle between vectors, which allows for the identification of neighbors with similar term distributions, regardless of document length. This results in a more balanced selection of documents, reflecting a wider range of content sizes and enhancing the capture of meaningful semantic relationships."
   ]
  },
  {
   "cell_type": "markdown",
   "metadata": {},
   "source": [
    "Indeed, the 100 nearest neighbors using cosine distance provide a sampling across the range of document lengths, rather than just short articles like Euclidean distance provided."
   ]
  },
  {
   "cell_type": "markdown",
   "metadata": {},
   "source": [
    "**Moral of the story**: In deciding the features and distance measures, check if they produce results that make sense for your particular application."
   ]
  },
  {
   "cell_type": "markdown",
   "metadata": {},
   "source": [
    "## Ex. 5: Problem with cosine distances: tweets vs. long articles"
   ]
  },
  {
   "cell_type": "markdown",
   "metadata": {},
   "source": [
    "Happily ever after? Not so fast. Cosine distances ignore all document lengths, which may be great in certain situations but not in others. For instance, consider the following (admittedly contrived) example."
   ]
  },
  {
   "cell_type": "markdown",
   "metadata": {},
   "source": [
    "```\n",
    "+--------------------------------------------------------+\n",
    "|                                             +--------+ |\n",
    "|  One that shall not be named                | Follow | |\n",
    "|  @username                                  +--------+ |\n",
    "|                                                        |\n",
    "|  Democratic governments control law in response to     |\n",
    "|  popular act.                                          |\n",
    "|                                                        |\n",
    "|  8:05 AM - 16 May 2016                                 |\n",
    "|                                                        |\n",
    "|  Reply   Retweet (1,332)   Like (300)                  |\n",
    "|                                                        |\n",
    "+--------------------------------------------------------+\n",
    "```"
   ]
  },
  {
   "cell_type": "markdown",
   "metadata": {},
   "source": [
    "**a)** Transform the tweet into TF-IDF features, using the fit to the Wikipedia dataset. (That is, let's treat this tweet as an article in our Wikipedia dataset and see what happens.) How similar is this tweet to Barack Obama's Wikipedia article? "
   ]
  },
  {
   "cell_type": "code",
   "execution_count": 21,
   "metadata": {},
   "outputs": [
    {
     "name": "stdout",
     "output_type": "stream",
     "text": [
      "Cosine similarity between the tweet and Barack Obama's article: 0.3386\n"
     ]
    }
   ],
   "source": [
    "from sklearn.metrics.pairwise import cosine_similarity\n",
    "\n",
    "# Create a DataFrame for the tweet\n",
    "df = pd.DataFrame({'text': ['democratic governments control law in response to popular act']})\n",
    "\n",
    "# Transform the tweet into TF-IDF features using the pre-trained vectorizer\n",
    "tweet_tfidf = vectorizer.transform(df['text'])\n",
    "\n",
    "# Locate the TF-IDF vector for Barack Obama's article\n",
    "obama_index = wiki[wiki['name'] == \"Barack Obama\"].index[0]\n",
    "obama_tfidf = TFIDFmatrix[obama_index]\n",
    "\n",
    "# Compute the cosine similarity between the tweet and Obama's article\n",
    "similarity = cosine_similarity(tweet_tfidf, obama_tfidf)\n",
    "\n",
    "# Display the similarity\n",
    "print(f\"Cosine similarity between the tweet and Barack Obama's article: {similarity[0][0]:.4f}\")"
   ]
  },
  {
   "cell_type": "markdown",
   "metadata": {},
   "source": [
    "Let's compare this tweet's TF-IDF vectors  to Barack Obama's Wikipedia entry."
   ]
  },
  {
   "cell_type": "code",
   "execution_count": 22,
   "metadata": {
    "jupyter": {
     "outputs_hidden": false
    }
   },
   "outputs": [
    {
     "data": {
      "text/html": [
       "<div>\n",
       "<style scoped>\n",
       "    .dataframe tbody tr th:only-of-type {\n",
       "        vertical-align: middle;\n",
       "    }\n",
       "\n",
       "    .dataframe tbody tr th {\n",
       "        vertical-align: top;\n",
       "    }\n",
       "\n",
       "    .dataframe thead th {\n",
       "        text-align: right;\n",
       "    }\n",
       "</style>\n",
       "<table border=\"1\" class=\"dataframe\">\n",
       "  <thead>\n",
       "    <tr style=\"text-align: right;\">\n",
       "      <th></th>\n",
       "      <th>word</th>\n",
       "      <th>tf-idf</th>\n",
       "    </tr>\n",
       "  </thead>\n",
       "  <tbody>\n",
       "    <tr>\n",
       "      <th>358582</th>\n",
       "      <td>obama</td>\n",
       "      <td>52.295653</td>\n",
       "    </tr>\n",
       "    <tr>\n",
       "      <th>488178</th>\n",
       "      <td>the</td>\n",
       "      <td>40.004063</td>\n",
       "    </tr>\n",
       "    <tr>\n",
       "      <th>45084</th>\n",
       "      <td>act</td>\n",
       "      <td>35.678223</td>\n",
       "    </tr>\n",
       "    <tr>\n",
       "      <th>251924</th>\n",
       "      <td>in</td>\n",
       "      <td>30.028962</td>\n",
       "    </tr>\n",
       "    <tr>\n",
       "      <th>259239</th>\n",
       "      <td>iraq</td>\n",
       "      <td>21.747379</td>\n",
       "    </tr>\n",
       "    <tr>\n",
       "      <th>...</th>\n",
       "      <td>...</td>\n",
       "      <td>...</td>\n",
       "    </tr>\n",
       "    <tr>\n",
       "      <th>182862</th>\n",
       "      <td>equina</td>\n",
       "      <td>0.000000</td>\n",
       "    </tr>\n",
       "    <tr>\n",
       "      <th>182861</th>\n",
       "      <td>equiluz</td>\n",
       "      <td>0.000000</td>\n",
       "    </tr>\n",
       "    <tr>\n",
       "      <th>182860</th>\n",
       "      <td>equilium</td>\n",
       "      <td>0.000000</td>\n",
       "    </tr>\n",
       "    <tr>\n",
       "      <th>182859</th>\n",
       "      <td>equilibriums</td>\n",
       "      <td>0.000000</td>\n",
       "    </tr>\n",
       "    <tr>\n",
       "      <th>548464</th>\n",
       "      <td>zzts</td>\n",
       "      <td>0.000000</td>\n",
       "    </tr>\n",
       "  </tbody>\n",
       "</table>\n",
       "<p>548465 rows × 2 columns</p>\n",
       "</div>"
      ],
      "text/plain": [
       "                word     tf-idf\n",
       "358582         obama  52.295653\n",
       "488178           the  40.004063\n",
       "45084            act  35.678223\n",
       "251924            in  30.028962\n",
       "259239          iraq  21.747379\n",
       "...              ...        ...\n",
       "182862        equina   0.000000\n",
       "182861       equiluz   0.000000\n",
       "182860      equilium   0.000000\n",
       "182859  equilibriums   0.000000\n",
       "548464          zzts   0.000000\n",
       "\n",
       "[548465 rows x 2 columns]"
      ]
     },
     "execution_count": 22,
     "metadata": {},
     "output_type": "execute_result"
    }
   ],
   "source": [
    "obama_tf_idf"
   ]
  },
  {
   "cell_type": "markdown",
   "metadata": {},
   "source": [
    "**b)** Now, compute the cosine distance between the Barack Obama article and this tweet:"
   ]
  },
  {
   "cell_type": "code",
   "execution_count": 23,
   "metadata": {
    "jupyter": {
     "outputs_hidden": false
    }
   },
   "outputs": [
    {
     "name": "stdout",
     "output_type": "stream",
     "text": [
      "Cosine distance between the tweet and Barack Obama's article: 0.6614\n"
     ]
    }
   ],
   "source": [
    "from sklearn.metrics.pairwise import cosine_distances\n",
    "\n",
    "# Compute the cosine distance between Barack Obama's TF-IDF vector and the tweet's TF-IDF vector\n",
    "cosine_distance = cosine_distances(tweet_tfidf, obama_tfidf)\n",
    "\n",
    "# Display the cosine distance\n",
    "print(f\"Cosine distance between the tweet and Barack Obama's article: {cosine_distance[0][0]:.4f}\")"
   ]
  },
  {
   "cell_type": "markdown",
   "metadata": {},
   "source": [
    "Let's compare this distance to the distance between the Barack Obama article and all of its Wikipedia nearest neighbors:"
   ]
  },
  {
   "cell_type": "code",
   "execution_count": 24,
   "metadata": {
    "jupyter": {
     "outputs_hidden": false
    }
   },
   "outputs": [
    {
     "data": {
      "text/html": [
       "<div>\n",
       "<style scoped>\n",
       "    .dataframe tbody tr th:only-of-type {\n",
       "        vertical-align: middle;\n",
       "    }\n",
       "\n",
       "    .dataframe tbody tr th {\n",
       "        vertical-align: top;\n",
       "    }\n",
       "\n",
       "    .dataframe thead th {\n",
       "        text-align: right;\n",
       "    }\n",
       "</style>\n",
       "<table border=\"1\" class=\"dataframe\">\n",
       "  <thead>\n",
       "    <tr style=\"text-align: right;\">\n",
       "      <th></th>\n",
       "      <th>URI</th>\n",
       "      <th>name</th>\n",
       "      <th>text</th>\n",
       "      <th>BO-eucl</th>\n",
       "      <th>BO-eucl-TF-IDF</th>\n",
       "      <th>length</th>\n",
       "      <th>obama_cosine_distances</th>\n",
       "    </tr>\n",
       "  </thead>\n",
       "  <tbody>\n",
       "    <tr>\n",
       "      <th>35817</th>\n",
       "      <td>&lt;http://dbpedia.org/resource/Barack_Obama&gt;</td>\n",
       "      <td>Barack Obama</td>\n",
       "      <td>barack hussein obama ii brk husen bm born augu...</td>\n",
       "      <td>0.000000</td>\n",
       "      <td>0.000000</td>\n",
       "      <td>531</td>\n",
       "      <td>0.000000</td>\n",
       "    </tr>\n",
       "    <tr>\n",
       "      <th>24478</th>\n",
       "      <td>&lt;http://dbpedia.org/resource/Joe_Biden&gt;</td>\n",
       "      <td>Joe Biden</td>\n",
       "      <td>joseph robinette joe biden jr dosf rbnt badn b...</td>\n",
       "      <td>31.336879</td>\n",
       "      <td>148.778454</td>\n",
       "      <td>407</td>\n",
       "      <td>0.540240</td>\n",
       "    </tr>\n",
       "    <tr>\n",
       "      <th>38376</th>\n",
       "      <td>&lt;http://dbpedia.org/resource/Samantha_Power&gt;</td>\n",
       "      <td>Samantha Power</td>\n",
       "      <td>samantha power born september 21 1970 is an ir...</td>\n",
       "      <td>42.544095</td>\n",
       "      <td>139.364493</td>\n",
       "      <td>303</td>\n",
       "      <td>0.674404</td>\n",
       "    </tr>\n",
       "    <tr>\n",
       "      <th>2412</th>\n",
       "      <td>&lt;http://dbpedia.org/resource/Joe_the_Plumber&gt;</td>\n",
       "      <td>Joe the Plumber</td>\n",
       "      <td>samuel joseph wurzelbacher wrzlbkr born decemb...</td>\n",
       "      <td>49.749372</td>\n",
       "      <td>150.462034</td>\n",
       "      <td>210</td>\n",
       "      <td>0.683807</td>\n",
       "    </tr>\n",
       "    <tr>\n",
       "      <th>38714</th>\n",
       "      <td>&lt;http://dbpedia.org/resource/Eric_Stern_(polit...</td>\n",
       "      <td>Eric Stern (politician)</td>\n",
       "      <td>eric stern is the director of operations for t...</td>\n",
       "      <td>45.310043</td>\n",
       "      <td>140.450064</td>\n",
       "      <td>253</td>\n",
       "      <td>0.702627</td>\n",
       "    </tr>\n",
       "    <tr>\n",
       "      <th>53303</th>\n",
       "      <td>&lt;http://dbpedia.org/resource/Juan_F._Vasquez&gt;</td>\n",
       "      <td>Juan F. Vasquez</td>\n",
       "      <td>juan f vasquez born texas 1948 is a judge of t...</td>\n",
       "      <td>53.469618</td>\n",
       "      <td>150.233898</td>\n",
       "      <td>218</td>\n",
       "      <td>0.702682</td>\n",
       "    </tr>\n",
       "    <tr>\n",
       "      <th>4408</th>\n",
       "      <td>&lt;http://dbpedia.org/resource/Joe_Lieberman&gt;</td>\n",
       "      <td>Joe Lieberman</td>\n",
       "      <td>joseph isadore joe lieberman born february 24 ...</td>\n",
       "      <td>38.183766</td>\n",
       "      <td>196.040193</td>\n",
       "      <td>444</td>\n",
       "      <td>0.706613</td>\n",
       "    </tr>\n",
       "    <tr>\n",
       "      <th>18827</th>\n",
       "      <td>&lt;http://dbpedia.org/resource/Henry_Waxman&gt;</td>\n",
       "      <td>Henry Waxman</td>\n",
       "      <td>henry arnold waxman born september 12 1939 is ...</td>\n",
       "      <td>45.055521</td>\n",
       "      <td>145.288309</td>\n",
       "      <td>275</td>\n",
       "      <td>0.715553</td>\n",
       "    </tr>\n",
       "    <tr>\n",
       "      <th>24837</th>\n",
       "      <td>&lt;http://dbpedia.org/resource/Leon_Panetta&gt;</td>\n",
       "      <td>Leon Panetta</td>\n",
       "      <td>leon edward panetta born june 28 1938 is an am...</td>\n",
       "      <td>51.107729</td>\n",
       "      <td>160.285205</td>\n",
       "      <td>204</td>\n",
       "      <td>0.719558</td>\n",
       "    </tr>\n",
       "    <tr>\n",
       "      <th>57108</th>\n",
       "      <td>&lt;http://dbpedia.org/resource/Hillary_Rodham_Cl...</td>\n",
       "      <td>Hillary Rodham Clinton</td>\n",
       "      <td>hillary diane rodham clinton hlri dan rdm klnt...</td>\n",
       "      <td>40.926764</td>\n",
       "      <td>167.515131</td>\n",
       "      <td>570</td>\n",
       "      <td>0.720494</td>\n",
       "    </tr>\n",
       "    <tr>\n",
       "      <th>40184</th>\n",
       "      <td>&lt;http://dbpedia.org/resource/Chuck_Hagel&gt;</td>\n",
       "      <td>Chuck Hagel</td>\n",
       "      <td>charles timothy chuck hagel tk hel chuk haygl ...</td>\n",
       "      <td>46.389654</td>\n",
       "      <td>183.033550</td>\n",
       "      <td>410</td>\n",
       "      <td>0.723318</td>\n",
       "    </tr>\n",
       "    <tr>\n",
       "      <th>23737</th>\n",
       "      <td>&lt;http://dbpedia.org/resource/John_D._McCormick&gt;</td>\n",
       "      <td>John D. McCormick</td>\n",
       "      <td>john mccormick is a bloomberg news reporter ba...</td>\n",
       "      <td>51.019604</td>\n",
       "      <td>150.131767</td>\n",
       "      <td>238</td>\n",
       "      <td>0.724155</td>\n",
       "    </tr>\n",
       "    <tr>\n",
       "      <th>45068</th>\n",
       "      <td>&lt;http://dbpedia.org/resource/Douglas_Schoen&gt;</td>\n",
       "      <td>Douglas Schoen</td>\n",
       "      <td>douglas schoen is an american political analys...</td>\n",
       "      <td>55.470713</td>\n",
       "      <td>148.965967</td>\n",
       "      <td>197</td>\n",
       "      <td>0.729808</td>\n",
       "    </tr>\n",
       "    <tr>\n",
       "      <th>46140</th>\n",
       "      <td>&lt;http://dbpedia.org/resource/Robert_Gibbs&gt;</td>\n",
       "      <td>Robert Gibbs</td>\n",
       "      <td>robert lane gibbs born march 29 1971 is an ame...</td>\n",
       "      <td>50.833060</td>\n",
       "      <td>147.260546</td>\n",
       "      <td>250</td>\n",
       "      <td>0.730339</td>\n",
       "    </tr>\n",
       "    <tr>\n",
       "      <th>54624</th>\n",
       "      <td>&lt;http://dbpedia.org/resource/Steve_Schale&gt;</td>\n",
       "      <td>Steve Schale</td>\n",
       "      <td>steve schale is a political strategist in flor...</td>\n",
       "      <td>44.045431</td>\n",
       "      <td>169.382980</td>\n",
       "      <td>290</td>\n",
       "      <td>0.732044</td>\n",
       "    </tr>\n",
       "    <tr>\n",
       "      <th>6796</th>\n",
       "      <td>&lt;http://dbpedia.org/resource/Eric_Holder&gt;</td>\n",
       "      <td>Eric Holder</td>\n",
       "      <td>eric himpton holder jr born january 21 1951 is...</td>\n",
       "      <td>47.106263</td>\n",
       "      <td>142.490179</td>\n",
       "      <td>228</td>\n",
       "      <td>0.733318</td>\n",
       "    </tr>\n",
       "    <tr>\n",
       "      <th>7914</th>\n",
       "      <td>&lt;http://dbpedia.org/resource/Phil_Schiliro&gt;</td>\n",
       "      <td>Phil Schiliro</td>\n",
       "      <td>phil schiliro is an american political consult...</td>\n",
       "      <td>52.402290</td>\n",
       "      <td>139.812175</td>\n",
       "      <td>203</td>\n",
       "      <td>0.735588</td>\n",
       "    </tr>\n",
       "    <tr>\n",
       "      <th>11517</th>\n",
       "      <td>&lt;http://dbpedia.org/resource/Louis_Susman&gt;</td>\n",
       "      <td>Louis Susman</td>\n",
       "      <td>louis b susman born november 19 1937 is an ame...</td>\n",
       "      <td>49.457052</td>\n",
       "      <td>145.613866</td>\n",
       "      <td>224</td>\n",
       "      <td>0.737761</td>\n",
       "    </tr>\n",
       "    <tr>\n",
       "      <th>44681</th>\n",
       "      <td>&lt;http://dbpedia.org/resource/Jesse_Lee_(politi...</td>\n",
       "      <td>Jesse Lee (politician)</td>\n",
       "      <td>jesse lee born 1979 was named the white house ...</td>\n",
       "      <td>51.097945</td>\n",
       "      <td>142.342440</td>\n",
       "      <td>213</td>\n",
       "      <td>0.738283</td>\n",
       "    </tr>\n",
       "    <tr>\n",
       "      <th>24885</th>\n",
       "      <td>&lt;http://dbpedia.org/resource/David_Mendell&gt;</td>\n",
       "      <td>David Mendell</td>\n",
       "      <td>david mendell is an american journalist who wr...</td>\n",
       "      <td>45.912961</td>\n",
       "      <td>181.691883</td>\n",
       "      <td>243</td>\n",
       "      <td>0.739341</td>\n",
       "    </tr>\n",
       "    <tr>\n",
       "      <th>39357</th>\n",
       "      <td>&lt;http://dbpedia.org/resource/John_McCain&gt;</td>\n",
       "      <td>John McCain</td>\n",
       "      <td>john sidney mccain iii born august 29 1936 is ...</td>\n",
       "      <td>38.366652</td>\n",
       "      <td>148.246627</td>\n",
       "      <td>395</td>\n",
       "      <td>0.749410</td>\n",
       "    </tr>\n",
       "    <tr>\n",
       "      <th>23205</th>\n",
       "      <td>&lt;http://dbpedia.org/resource/Richard_Cordray&gt;</td>\n",
       "      <td>Richard Cordray</td>\n",
       "      <td>richard cordray born may 3 1959 is an american...</td>\n",
       "      <td>39.127995</td>\n",
       "      <td>173.933698</td>\n",
       "      <td>328</td>\n",
       "      <td>0.754169</td>\n",
       "    </tr>\n",
       "    <tr>\n",
       "      <th>4032</th>\n",
       "      <td>&lt;http://dbpedia.org/resource/Kenneth_D._Thompson&gt;</td>\n",
       "      <td>Kenneth D. Thompson</td>\n",
       "      <td>kenneth d kenny thompson jr former aide to bar...</td>\n",
       "      <td>52.402290</td>\n",
       "      <td>145.937226</td>\n",
       "      <td>209</td>\n",
       "      <td>0.755328</td>\n",
       "    </tr>\n",
       "  </tbody>\n",
       "</table>\n",
       "</div>"
      ],
      "text/plain": [
       "                                                     URI  \\\n",
       "35817         <http://dbpedia.org/resource/Barack_Obama>   \n",
       "24478            <http://dbpedia.org/resource/Joe_Biden>   \n",
       "38376       <http://dbpedia.org/resource/Samantha_Power>   \n",
       "2412       <http://dbpedia.org/resource/Joe_the_Plumber>   \n",
       "38714  <http://dbpedia.org/resource/Eric_Stern_(polit...   \n",
       "53303      <http://dbpedia.org/resource/Juan_F._Vasquez>   \n",
       "4408         <http://dbpedia.org/resource/Joe_Lieberman>   \n",
       "18827         <http://dbpedia.org/resource/Henry_Waxman>   \n",
       "24837         <http://dbpedia.org/resource/Leon_Panetta>   \n",
       "57108  <http://dbpedia.org/resource/Hillary_Rodham_Cl...   \n",
       "40184          <http://dbpedia.org/resource/Chuck_Hagel>   \n",
       "23737    <http://dbpedia.org/resource/John_D._McCormick>   \n",
       "45068       <http://dbpedia.org/resource/Douglas_Schoen>   \n",
       "46140         <http://dbpedia.org/resource/Robert_Gibbs>   \n",
       "54624         <http://dbpedia.org/resource/Steve_Schale>   \n",
       "6796           <http://dbpedia.org/resource/Eric_Holder>   \n",
       "7914         <http://dbpedia.org/resource/Phil_Schiliro>   \n",
       "11517         <http://dbpedia.org/resource/Louis_Susman>   \n",
       "44681  <http://dbpedia.org/resource/Jesse_Lee_(politi...   \n",
       "24885        <http://dbpedia.org/resource/David_Mendell>   \n",
       "39357          <http://dbpedia.org/resource/John_McCain>   \n",
       "23205      <http://dbpedia.org/resource/Richard_Cordray>   \n",
       "4032   <http://dbpedia.org/resource/Kenneth_D._Thompson>   \n",
       "\n",
       "                          name  \\\n",
       "35817             Barack Obama   \n",
       "24478                Joe Biden   \n",
       "38376           Samantha Power   \n",
       "2412           Joe the Plumber   \n",
       "38714  Eric Stern (politician)   \n",
       "53303          Juan F. Vasquez   \n",
       "4408             Joe Lieberman   \n",
       "18827             Henry Waxman   \n",
       "24837             Leon Panetta   \n",
       "57108   Hillary Rodham Clinton   \n",
       "40184              Chuck Hagel   \n",
       "23737        John D. McCormick   \n",
       "45068           Douglas Schoen   \n",
       "46140             Robert Gibbs   \n",
       "54624             Steve Schale   \n",
       "6796               Eric Holder   \n",
       "7914             Phil Schiliro   \n",
       "11517             Louis Susman   \n",
       "44681   Jesse Lee (politician)   \n",
       "24885            David Mendell   \n",
       "39357              John McCain   \n",
       "23205          Richard Cordray   \n",
       "4032       Kenneth D. Thompson   \n",
       "\n",
       "                                                    text    BO-eucl  \\\n",
       "35817  barack hussein obama ii brk husen bm born augu...   0.000000   \n",
       "24478  joseph robinette joe biden jr dosf rbnt badn b...  31.336879   \n",
       "38376  samantha power born september 21 1970 is an ir...  42.544095   \n",
       "2412   samuel joseph wurzelbacher wrzlbkr born decemb...  49.749372   \n",
       "38714  eric stern is the director of operations for t...  45.310043   \n",
       "53303  juan f vasquez born texas 1948 is a judge of t...  53.469618   \n",
       "4408   joseph isadore joe lieberman born february 24 ...  38.183766   \n",
       "18827  henry arnold waxman born september 12 1939 is ...  45.055521   \n",
       "24837  leon edward panetta born june 28 1938 is an am...  51.107729   \n",
       "57108  hillary diane rodham clinton hlri dan rdm klnt...  40.926764   \n",
       "40184  charles timothy chuck hagel tk hel chuk haygl ...  46.389654   \n",
       "23737  john mccormick is a bloomberg news reporter ba...  51.019604   \n",
       "45068  douglas schoen is an american political analys...  55.470713   \n",
       "46140  robert lane gibbs born march 29 1971 is an ame...  50.833060   \n",
       "54624  steve schale is a political strategist in flor...  44.045431   \n",
       "6796   eric himpton holder jr born january 21 1951 is...  47.106263   \n",
       "7914   phil schiliro is an american political consult...  52.402290   \n",
       "11517  louis b susman born november 19 1937 is an ame...  49.457052   \n",
       "44681  jesse lee born 1979 was named the white house ...  51.097945   \n",
       "24885  david mendell is an american journalist who wr...  45.912961   \n",
       "39357  john sidney mccain iii born august 29 1936 is ...  38.366652   \n",
       "23205  richard cordray born may 3 1959 is an american...  39.127995   \n",
       "4032   kenneth d kenny thompson jr former aide to bar...  52.402290   \n",
       "\n",
       "       BO-eucl-TF-IDF  length  obama_cosine_distances  \n",
       "35817        0.000000     531                0.000000  \n",
       "24478      148.778454     407                0.540240  \n",
       "38376      139.364493     303                0.674404  \n",
       "2412       150.462034     210                0.683807  \n",
       "38714      140.450064     253                0.702627  \n",
       "53303      150.233898     218                0.702682  \n",
       "4408       196.040193     444                0.706613  \n",
       "18827      145.288309     275                0.715553  \n",
       "24837      160.285205     204                0.719558  \n",
       "57108      167.515131     570                0.720494  \n",
       "40184      183.033550     410                0.723318  \n",
       "23737      150.131767     238                0.724155  \n",
       "45068      148.965967     197                0.729808  \n",
       "46140      147.260546     250                0.730339  \n",
       "54624      169.382980     290                0.732044  \n",
       "6796       142.490179     228                0.733318  \n",
       "7914       139.812175     203                0.735588  \n",
       "11517      145.613866     224                0.737761  \n",
       "44681      142.342440     213                0.738283  \n",
       "24885      181.691883     243                0.739341  \n",
       "39357      148.246627     395                0.749410  \n",
       "23205      173.933698     328                0.754169  \n",
       "4032       145.937226     209                0.755328  "
      ]
     },
     "execution_count": 24,
     "metadata": {},
     "output_type": "execute_result"
    }
   ],
   "source": [
    "nearest_neighbors_cosine[0:23]"
   ]
  },
  {
   "cell_type": "markdown",
   "metadata": {},
   "source": [
    "With cosine distances, the tweet is \"nearer\" to Barack Obama than most people! If someone is reading the Barack Obama Wikipedia page, would you want to recommend they read this tweet?\n",
    "In practice, it is common to enforce maximum or minimum document lengths. After all, when someone is reading a long article from _The Atlantic_, you wouldn't recommend him/her a tweet."
   ]
  }
 ],
 "metadata": {
  "anaconda-cloud": {},
  "kernelspec": {
   "display_name": "Python 3 (ipykernel)",
   "language": "python",
   "name": "python3"
  },
  "language_info": {
   "codemirror_mode": {
    "name": "ipython",
    "version": 3
   },
   "file_extension": ".py",
   "mimetype": "text/x-python",
   "name": "python",
   "nbconvert_exporter": "python",
   "pygments_lexer": "ipython3",
   "version": "3.9.13"
  }
 },
 "nbformat": 4,
 "nbformat_minor": 4
}
